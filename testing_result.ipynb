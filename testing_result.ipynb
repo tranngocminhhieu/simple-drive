{
 "cells": [
  {
   "cell_type": "code",
   "outputs": [],
   "source": [
    "from simple_drive import Drive, Auth, MimeTypes, Roles, SearchTerms\n",
    "import pandas as pd\n",
    "from datetime import datetime"
   ],
   "metadata": {
    "collapsed": false,
    "ExecuteTime": {
     "end_time": "2024-06-21T06:42:54.815090Z",
     "start_time": "2024-06-21T06:42:54.079003Z"
    }
   },
   "id": "cb0271fa8efb5af7",
   "execution_count": 1
  },
  {
   "cell_type": "code",
   "outputs": [
    {
     "name": "stdout",
     "output_type": "stream",
     "text": [
      "Simple Drive has tested at 2024-06-21 13:42:55.010658\n"
     ]
    }
   ],
   "source": [
    "print('Simple Drive has tested at', datetime.now())"
   ],
   "metadata": {
    "collapsed": false,
    "ExecuteTime": {
     "end_time": "2024-06-21T06:42:55.012208Z",
     "start_time": "2024-06-21T06:42:55.009667Z"
    }
   },
   "id": "54d0b9ba6f0d08ba",
   "execution_count": 2
  },
  {
   "cell_type": "markdown",
   "source": [
    "# Authorization"
   ],
   "metadata": {
    "collapsed": false
   },
   "id": "c78428000ef8be2f"
  },
  {
   "cell_type": "code",
   "outputs": [],
   "source": [
    "auth = Auth.from_service_account_file(file='service_account.json')"
   ],
   "metadata": {
    "collapsed": false,
    "ExecuteTime": {
     "end_time": "2024-06-21T06:42:55.090814Z",
     "start_time": "2024-06-21T06:42:55.086782Z"
    }
   },
   "id": "ca43fd6e78723e9f",
   "execution_count": 3
  },
  {
   "cell_type": "code",
   "outputs": [],
   "source": [
    "drive = Drive(auth=auth, verbose=True)"
   ],
   "metadata": {
    "collapsed": false,
    "ExecuteTime": {
     "end_time": "2024-06-21T06:42:55.166454Z",
     "start_time": "2024-06-21T06:42:55.160256Z"
    }
   },
   "id": "29109fc22041c984",
   "execution_count": 4
  },
  {
   "cell_type": "markdown",
   "source": [
    "# About"
   ],
   "metadata": {
    "collapsed": false
   },
   "id": "2cf1f22968ce601"
  },
  {
   "cell_type": "code",
   "outputs": [
    {
     "name": "stdout",
     "output_type": "stream",
     "text": [
      "\u001B[32m4.04 GB\u001B[39m / 15.00 GB (usage 26.93%)\n"
     ]
    }
   ],
   "source": [
    "storage_quota = drive.About.get_storage_quota()"
   ],
   "metadata": {
    "collapsed": false,
    "ExecuteTime": {
     "end_time": "2024-06-21T06:42:55.910989Z",
     "start_time": "2024-06-21T06:42:55.210342Z"
    }
   },
   "id": "8ea511565211c6fc",
   "execution_count": 5
  },
  {
   "cell_type": "code",
   "outputs": [
    {
     "name": "stdout",
     "output_type": "stream",
     "text": [
      "{'limit': 16106127360, 'usage': 4339942847, 'usageInDrive': 4339942847, 'usageInDriveTrash': 0}\n"
     ]
    }
   ],
   "source": [
    "print(storage_quota)"
   ],
   "metadata": {
    "collapsed": false,
    "ExecuteTime": {
     "end_time": "2024-06-21T06:42:55.914685Z",
     "start_time": "2024-06-21T06:42:55.912263Z"
    }
   },
   "id": "de2e2bd98a05231b",
   "execution_count": 6
  },
  {
   "cell_type": "code",
   "outputs": [],
   "source": [
    "about = drive.About.get()"
   ],
   "metadata": {
    "collapsed": false,
    "ExecuteTime": {
     "end_time": "2024-06-21T06:42:56.255712Z",
     "start_time": "2024-06-21T06:42:55.915490Z"
    }
   },
   "id": "4e1d729130fce21",
   "execution_count": 7
  },
  {
   "cell_type": "code",
   "outputs": [
    {
     "name": "stdout",
     "output_type": "stream",
     "text": [
      "{'kind': 'drive#about', 'user': {'kind': 'drive#user', 'displayName': 'scheduled-update@vn-commercial-analytics.iam.gserviceaccount.com', 'photoLink': 'https://lh3.googleusercontent.com/a/ACg8ocLLRXuvqntf_wWYDF337mxpjHbjG26Fp3qvbMc0Y2DCj7gXaQ=s64', 'me': True, 'permissionId': '16253811486374742618', 'emailAddress': 'scheduled-update@vn-commercial-analytics.iam.gserviceaccount.com'}, 'storageQuota': {'limit': '16106127360', 'usage': '4339942847', 'usageInDrive': '4339942847', 'usageInDriveTrash': '0'}, 'importFormats': {'application/x-vnd.oasis.opendocument.presentation': ['application/vnd.google-apps.presentation'], 'text/tab-separated-values': ['application/vnd.google-apps.spreadsheet'], 'image/jpeg': ['application/vnd.google-apps.document'], 'image/bmp': ['application/vnd.google-apps.document'], 'image/gif': ['application/vnd.google-apps.document'], 'application/vnd.ms-excel.sheet.macroenabled.12': ['application/vnd.google-apps.spreadsheet'], 'application/vnd.openxmlformats-officedocument.wordprocessingml.template': ['application/vnd.google-apps.document'], 'application/vnd.ms-powerpoint.presentation.macroenabled.12': ['application/vnd.google-apps.presentation'], 'application/vnd.ms-word.template.macroenabled.12': ['application/vnd.google-apps.document'], 'application/vnd.openxmlformats-officedocument.wordprocessingml.document': ['application/vnd.google-apps.document'], 'image/pjpeg': ['application/vnd.google-apps.document'], 'application/vnd.google-apps.script+text/plain': ['application/vnd.google-apps.script'], 'application/vnd.ms-excel': ['application/vnd.google-apps.spreadsheet'], 'application/vnd.ms-word.document.macroenabled.12': ['application/vnd.google-apps.document'], 'application/vnd.sun.xml.writer': ['application/vnd.google-apps.document'], 'application/vnd.ms-powerpoint.slideshow.macroenabled.12': ['application/vnd.google-apps.presentation'], 'text/rtf': ['application/vnd.google-apps.document'], 'application/vnd.oasis.opendocument.spreadsheet': ['application/vnd.google-apps.spreadsheet'], 'text/plain': ['application/vnd.google-apps.document'], 'application/x-vnd.oasis.opendocument.spreadsheet': ['application/vnd.google-apps.spreadsheet'], 'application/x-vnd.oasis.opendocument.text': ['application/vnd.google-apps.document'], 'image/png': ['application/vnd.google-apps.document'], 'application/msword': ['application/vnd.google-apps.document'], 'application/pdf': ['application/vnd.google-apps.document'], 'application/x-msmetafile': ['application/vnd.google-apps.drawing'], 'application/vnd.openxmlformats-officedocument.spreadsheetml.template': ['application/vnd.google-apps.spreadsheet'], 'application/vnd.ms-powerpoint': ['application/vnd.google-apps.presentation'], 'application/vnd.ms-excel.template.macroenabled.12': ['application/vnd.google-apps.spreadsheet'], 'image/x-bmp': ['application/vnd.google-apps.document'], 'application/rtf': ['application/vnd.google-apps.document'], 'application/vnd.openxmlformats-officedocument.presentationml.template': ['application/vnd.google-apps.presentation'], 'image/x-png': ['application/vnd.google-apps.document'], 'text/html': ['application/vnd.google-apps.document'], 'application/vnd.oasis.opendocument.text': ['application/vnd.google-apps.document'], 'application/vnd.openxmlformats-officedocument.presentationml.presentation': ['application/vnd.google-apps.presentation'], 'application/vnd.openxmlformats-officedocument.spreadsheetml.sheet': ['application/vnd.google-apps.spreadsheet'], 'application/vnd.google-apps.script+json': ['application/vnd.google-apps.script'], 'application/vnd.openxmlformats-officedocument.presentationml.slideshow': ['application/vnd.google-apps.presentation'], 'application/vnd.ms-powerpoint.template.macroenabled.12': ['application/vnd.google-apps.presentation'], 'text/csv': ['application/vnd.google-apps.spreadsheet'], 'application/vnd.oasis.opendocument.presentation': ['application/vnd.google-apps.presentation'], 'image/jpg': ['application/vnd.google-apps.document'], 'text/richtext': ['application/vnd.google-apps.document']}, 'exportFormats': {'application/vnd.google-apps.document': ['application/rtf', 'application/vnd.oasis.opendocument.text', 'text/html', 'application/pdf', 'application/epub+zip', 'application/zip', 'application/vnd.openxmlformats-officedocument.wordprocessingml.document', 'text/plain'], 'application/vnd.google-apps.vid': ['video/mp4'], 'application/vnd.google-apps.spreadsheet': ['application/x-vnd.oasis.opendocument.spreadsheet', 'text/tab-separated-values', 'application/pdf', 'application/vnd.openxmlformats-officedocument.spreadsheetml.sheet', 'text/csv', 'application/zip', 'application/vnd.oasis.opendocument.spreadsheet'], 'application/vnd.google-apps.jam': ['application/pdf'], 'application/vnd.google-apps.script': ['application/vnd.google-apps.script+json'], 'application/vnd.google-apps.presentation': ['application/vnd.oasis.opendocument.presentation', 'application/pdf', 'application/vnd.openxmlformats-officedocument.presentationml.presentation', 'text/plain'], 'application/vnd.google-apps.form': ['application/zip'], 'application/vnd.google-apps.drawing': ['image/svg+xml', 'image/png', 'application/pdf', 'image/jpeg'], 'application/vnd.google-apps.site': ['text/plain'], 'application/vnd.google-apps.mail-layout': ['text/plain']}, 'maxImportSizes': {'application/vnd.google-apps.document': '10485760', 'application/vnd.google-apps.spreadsheet': '104857600', 'application/vnd.google-apps.presentation': '104857600', 'application/vnd.google-apps.drawing': '2097152'}, 'maxUploadSize': '5242880000000', 'appInstalled': False, 'folderColorPalette': ['#ac725e', '#d06b64', '#f83a22', '#fa573c', '#ff7537', '#ffad46', '#fad165', '#fbe983', '#b3dc6c', '#7bd148', '#16a765', '#42d692', '#92e1c0', '#9fe1e7', '#9fc6e7', '#4986e7', '#9a9cff', '#b99aff', '#a47ae2', '#cd74e6', '#f691b2', '#cca6ac', '#cabdbf', '#8f8f8f'], 'teamDriveThemes': [{'id': 'abacus', 'backgroundImageLink': 'https://ssl.gstatic.com/team_drive_themes/abacus_background.jpg', 'colorRgb': '#ea6100'}, {'id': 'blueprints', 'backgroundImageLink': 'https://ssl.gstatic.com/team_drive_themes/blueprints_background.jpg', 'colorRgb': '#4285f4'}, {'id': 'bok_choy', 'backgroundImageLink': 'https://ssl.gstatic.com/team_drive_themes/bok_choy_background.jpg', 'colorRgb': '#689f38'}, {'id': 'books', 'backgroundImageLink': 'https://ssl.gstatic.com/team_drive_themes/books_background.jpg', 'colorRgb': '#4285f4'}, {'id': 'bread', 'backgroundImageLink': 'https://ssl.gstatic.com/team_drive_themes/bread_background.jpg', 'colorRgb': '#ef6c00'}, {'id': 'bubbles_color', 'backgroundImageLink': 'https://ssl.gstatic.com/team_drive_themes/bubbles_color_background.jpg', 'colorRgb': '#f06292'}, {'id': 'circuit', 'backgroundImageLink': 'https://ssl.gstatic.com/team_drive_themes/circuit_background.jpg', 'colorRgb': '#039be5'}, {'id': 'clams', 'backgroundImageLink': 'https://ssl.gstatic.com/team_drive_themes/clams_background.jpg', 'colorRgb': '#e91e63'}, {'id': 'clovers', 'backgroundImageLink': 'https://ssl.gstatic.com/team_drive_themes/clovers_background.jpg', 'colorRgb': '#689f38'}, {'id': 'cocktails', 'backgroundImageLink': 'https://ssl.gstatic.com/team_drive_themes/cocktails_background.jpg', 'colorRgb': '#db4437'}, {'id': 'concert', 'backgroundImageLink': 'https://ssl.gstatic.com/team_drive_themes/concert_background.jpg', 'colorRgb': '#ef6c00'}, {'id': 'desk', 'backgroundImageLink': 'https://ssl.gstatic.com/team_drive_themes/desk_background.jpg', 'colorRgb': '#607d8b'}, {'id': 'donut_coffee', 'backgroundImageLink': 'https://ssl.gstatic.com/team_drive_themes/donut_coffee_background.jpg', 'colorRgb': '#f06292'}, {'id': 'fabric_rolls', 'backgroundImageLink': 'https://ssl.gstatic.com/team_drive_themes/fabric_rolls_background.jpg', 'colorRgb': '#78909c'}, {'id': 'flags', 'backgroundImageLink': 'https://ssl.gstatic.com/team_drive_themes/flags_background.jpg', 'colorRgb': '#009688'}, {'id': 'flower_field', 'backgroundImageLink': 'https://ssl.gstatic.com/team_drive_themes/flower_field_background.jpg', 'colorRgb': '#e06055'}, {'id': 'flowers', 'backgroundImageLink': 'https://ssl.gstatic.com/team_drive_themes/flowers_background.jpg', 'colorRgb': '#689f38'}, {'id': 'glass', 'backgroundImageLink': 'https://ssl.gstatic.com/team_drive_themes/glass_background.jpg', 'colorRgb': '#0f9d58'}, {'id': 'lighthouse', 'backgroundImageLink': 'https://ssl.gstatic.com/team_drive_themes/lighthouse_background.jpg', 'colorRgb': '#4285f4'}, {'id': 'maps', 'backgroundImageLink': 'https://ssl.gstatic.com/team_drive_themes/maps_background.jpg', 'colorRgb': '#8d6e63'}, {'id': 'mountains', 'backgroundImageLink': 'https://ssl.gstatic.com/team_drive_themes/mountains_background.jpg', 'colorRgb': '#5c6bc0'}, {'id': 'notebook', 'backgroundImageLink': 'https://ssl.gstatic.com/team_drive_themes/notebook_background.jpg', 'colorRgb': '#689f38'}, {'id': 'paper_colored', 'backgroundImageLink': 'https://ssl.gstatic.com/team_drive_themes/paper_colored_background.jpg', 'colorRgb': '#9c27b0'}, {'id': 'pencils', 'backgroundImageLink': 'https://ssl.gstatic.com/team_drive_themes/pencils_background.jpg', 'colorRgb': '#0097a7'}, {'id': 'roofing_metal', 'backgroundImageLink': 'https://ssl.gstatic.com/team_drive_themes/roofing_metal_background.jpg', 'colorRgb': '#039be5'}, {'id': 'sticky_notes', 'backgroundImageLink': 'https://ssl.gstatic.com/team_drive_themes/sticky_notes_background.jpg', 'colorRgb': '#0097a7'}, {'id': 'table', 'backgroundImageLink': 'https://ssl.gstatic.com/team_drive_themes/table_background.jpg', 'colorRgb': '#8d6e63'}, {'id': 'travel', 'backgroundImageLink': 'https://ssl.gstatic.com/team_drive_themes/travel_background.jpg', 'colorRgb': '#039be5'}, {'id': 'waves', 'backgroundImageLink': 'https://ssl.gstatic.com/team_drive_themes/waves_background.jpg', 'colorRgb': '#ff5722'}, {'id': 'waves_blue', 'backgroundImageLink': 'https://ssl.gstatic.com/team_drive_themes/waves_blue_background.jpg', 'colorRgb': '#5c6bc0'}, {'id': 'wood', 'backgroundImageLink': 'https://ssl.gstatic.com/team_drive_themes/wood_background.jpg', 'colorRgb': '#8d6e63'}], 'driveThemes': [{'id': 'abacus', 'backgroundImageLink': 'https://ssl.gstatic.com/team_drive_themes/abacus_background.jpg', 'colorRgb': '#ea6100'}, {'id': 'blueprints', 'backgroundImageLink': 'https://ssl.gstatic.com/team_drive_themes/blueprints_background.jpg', 'colorRgb': '#4285f4'}, {'id': 'bok_choy', 'backgroundImageLink': 'https://ssl.gstatic.com/team_drive_themes/bok_choy_background.jpg', 'colorRgb': '#689f38'}, {'id': 'books', 'backgroundImageLink': 'https://ssl.gstatic.com/team_drive_themes/books_background.jpg', 'colorRgb': '#4285f4'}, {'id': 'bread', 'backgroundImageLink': 'https://ssl.gstatic.com/team_drive_themes/bread_background.jpg', 'colorRgb': '#ef6c00'}, {'id': 'bubbles_color', 'backgroundImageLink': 'https://ssl.gstatic.com/team_drive_themes/bubbles_color_background.jpg', 'colorRgb': '#f06292'}, {'id': 'circuit', 'backgroundImageLink': 'https://ssl.gstatic.com/team_drive_themes/circuit_background.jpg', 'colorRgb': '#039be5'}, {'id': 'clams', 'backgroundImageLink': 'https://ssl.gstatic.com/team_drive_themes/clams_background.jpg', 'colorRgb': '#e91e63'}, {'id': 'clovers', 'backgroundImageLink': 'https://ssl.gstatic.com/team_drive_themes/clovers_background.jpg', 'colorRgb': '#689f38'}, {'id': 'cocktails', 'backgroundImageLink': 'https://ssl.gstatic.com/team_drive_themes/cocktails_background.jpg', 'colorRgb': '#db4437'}, {'id': 'concert', 'backgroundImageLink': 'https://ssl.gstatic.com/team_drive_themes/concert_background.jpg', 'colorRgb': '#ef6c00'}, {'id': 'desk', 'backgroundImageLink': 'https://ssl.gstatic.com/team_drive_themes/desk_background.jpg', 'colorRgb': '#607d8b'}, {'id': 'donut_coffee', 'backgroundImageLink': 'https://ssl.gstatic.com/team_drive_themes/donut_coffee_background.jpg', 'colorRgb': '#f06292'}, {'id': 'fabric_rolls', 'backgroundImageLink': 'https://ssl.gstatic.com/team_drive_themes/fabric_rolls_background.jpg', 'colorRgb': '#78909c'}, {'id': 'flags', 'backgroundImageLink': 'https://ssl.gstatic.com/team_drive_themes/flags_background.jpg', 'colorRgb': '#009688'}, {'id': 'flower_field', 'backgroundImageLink': 'https://ssl.gstatic.com/team_drive_themes/flower_field_background.jpg', 'colorRgb': '#e06055'}, {'id': 'flowers', 'backgroundImageLink': 'https://ssl.gstatic.com/team_drive_themes/flowers_background.jpg', 'colorRgb': '#689f38'}, {'id': 'glass', 'backgroundImageLink': 'https://ssl.gstatic.com/team_drive_themes/glass_background.jpg', 'colorRgb': '#0f9d58'}, {'id': 'lighthouse', 'backgroundImageLink': 'https://ssl.gstatic.com/team_drive_themes/lighthouse_background.jpg', 'colorRgb': '#4285f4'}, {'id': 'maps', 'backgroundImageLink': 'https://ssl.gstatic.com/team_drive_themes/maps_background.jpg', 'colorRgb': '#8d6e63'}, {'id': 'mountains', 'backgroundImageLink': 'https://ssl.gstatic.com/team_drive_themes/mountains_background.jpg', 'colorRgb': '#5c6bc0'}, {'id': 'notebook', 'backgroundImageLink': 'https://ssl.gstatic.com/team_drive_themes/notebook_background.jpg', 'colorRgb': '#689f38'}, {'id': 'paper_colored', 'backgroundImageLink': 'https://ssl.gstatic.com/team_drive_themes/paper_colored_background.jpg', 'colorRgb': '#9c27b0'}, {'id': 'pencils', 'backgroundImageLink': 'https://ssl.gstatic.com/team_drive_themes/pencils_background.jpg', 'colorRgb': '#0097a7'}, {'id': 'roofing_metal', 'backgroundImageLink': 'https://ssl.gstatic.com/team_drive_themes/roofing_metal_background.jpg', 'colorRgb': '#039be5'}, {'id': 'sticky_notes', 'backgroundImageLink': 'https://ssl.gstatic.com/team_drive_themes/sticky_notes_background.jpg', 'colorRgb': '#0097a7'}, {'id': 'table', 'backgroundImageLink': 'https://ssl.gstatic.com/team_drive_themes/table_background.jpg', 'colorRgb': '#8d6e63'}, {'id': 'travel', 'backgroundImageLink': 'https://ssl.gstatic.com/team_drive_themes/travel_background.jpg', 'colorRgb': '#039be5'}, {'id': 'waves', 'backgroundImageLink': 'https://ssl.gstatic.com/team_drive_themes/waves_background.jpg', 'colorRgb': '#ff5722'}, {'id': 'waves_blue', 'backgroundImageLink': 'https://ssl.gstatic.com/team_drive_themes/waves_blue_background.jpg', 'colorRgb': '#5c6bc0'}, {'id': 'wood', 'backgroundImageLink': 'https://ssl.gstatic.com/team_drive_themes/wood_background.jpg', 'colorRgb': '#8d6e63'}], 'canCreateTeamDrives': False, 'canCreateDrives': False}\n"
     ]
    }
   ],
   "source": [
    "print(about)"
   ],
   "metadata": {
    "collapsed": false,
    "ExecuteTime": {
     "end_time": "2024-06-21T06:42:56.259897Z",
     "start_time": "2024-06-21T06:42:56.257264Z"
    }
   },
   "id": "75710ff645bea854",
   "execution_count": 8
  },
  {
   "cell_type": "markdown",
   "source": [
    "# Files"
   ],
   "metadata": {
    "collapsed": false
   },
   "id": "8299bc94a8cfe1be"
  },
  {
   "cell_type": "markdown",
   "source": [
    "## Create"
   ],
   "metadata": {
    "collapsed": false
   },
   "id": "103efd8a498dc74"
  },
  {
   "cell_type": "code",
   "outputs": [
    {
     "name": "stdout",
     "output_type": "stream",
     "text": [
      "\u001B[32mCreated a Folder as \u001B[39mMy folder\n"
     ]
    }
   ],
   "source": [
    "folder = drive.Files.create('My folder', mime_type=MimeTypes.FOLDER)"
   ],
   "metadata": {
    "collapsed": false,
    "ExecuteTime": {
     "end_time": "2024-06-21T06:42:56.897251Z",
     "start_time": "2024-06-21T06:42:56.260616Z"
    }
   },
   "id": "d53d3f6c46ec5463",
   "execution_count": 9
  },
  {
   "cell_type": "code",
   "outputs": [
    {
     "name": "stdout",
     "output_type": "stream",
     "text": [
      "{'id': '1_bpyZQJezH6HYGLj3f8uk-iOBYA-2vO_', 'name': 'My folder', 'mimeType': 'application/vnd.google-apps.folder', 'parents': ['0AE4Zombo0DUbUk9PVA'], 'webViewLink': 'https://drive.google.com/drive/folders/1_bpyZQJezH6HYGLj3f8uk-iOBYA-2vO_', 'owners': [{'kind': 'drive#user', 'displayName': 'scheduled-update@vn-commercial-analytics.iam.gserviceaccount.com', 'photoLink': 'https://lh3.googleusercontent.com/a/ACg8ocLLRXuvqntf_wWYDF337mxpjHbjG26Fp3qvbMc0Y2DCj7gXaQ=s64', 'me': True, 'permissionId': '16253811486374742618', 'emailAddress': 'scheduled-update@vn-commercial-analytics.iam.gserviceaccount.com'}]}\n"
     ]
    }
   ],
   "source": [
    "print(folder)"
   ],
   "metadata": {
    "collapsed": false,
    "ExecuteTime": {
     "end_time": "2024-06-21T06:42:56.901347Z",
     "start_time": "2024-06-21T06:42:56.898476Z"
    }
   },
   "id": "c2fca15a5206547b",
   "execution_count": 10
  },
  {
   "cell_type": "code",
   "outputs": [
    {
     "name": "stdout",
     "output_type": "stream",
     "text": [
      "\u001B[32mCreated a Sheets as \u001B[39mA sheets\u001B[32m in folder \u001B[39m1_bpyZQJezH6HYGLj3f8uk-iOBYA-2vO_\n"
     ]
    }
   ],
   "source": [
    "created_file = drive.Files.create(name='A sheets', mime_type=MimeTypes.SHEETS, dest_folder_id=folder.get('id'))"
   ],
   "metadata": {
    "collapsed": false,
    "ExecuteTime": {
     "end_time": "2024-06-21T06:42:59.602198Z",
     "start_time": "2024-06-21T06:42:56.903222Z"
    }
   },
   "id": "ff0e0fa08a2a6600",
   "execution_count": 11
  },
  {
   "cell_type": "code",
   "outputs": [
    {
     "name": "stdout",
     "output_type": "stream",
     "text": [
      "{'id': '1-z9hk-4R0L1zSfLUFIf6Esxr_5qvsUiHNjMEbmIjdg0', 'name': 'A sheets', 'mimeType': 'application/vnd.google-apps.spreadsheet', 'parents': ['1_bpyZQJezH6HYGLj3f8uk-iOBYA-2vO_'], 'webViewLink': 'https://docs.google.com/spreadsheets/d/1-z9hk-4R0L1zSfLUFIf6Esxr_5qvsUiHNjMEbmIjdg0/edit?usp=drivesdk', 'owners': [{'kind': 'drive#user', 'displayName': 'scheduled-update@vn-commercial-analytics.iam.gserviceaccount.com', 'photoLink': 'https://lh3.googleusercontent.com/a/ACg8ocLLRXuvqntf_wWYDF337mxpjHbjG26Fp3qvbMc0Y2DCj7gXaQ=s64', 'me': True, 'permissionId': '16253811486374742618', 'emailAddress': 'scheduled-update@vn-commercial-analytics.iam.gserviceaccount.com'}], 'size': '1024'}\n"
     ]
    }
   ],
   "source": [
    "print(created_file)"
   ],
   "metadata": {
    "collapsed": false,
    "ExecuteTime": {
     "end_time": "2024-06-21T06:42:59.608219Z",
     "start_time": "2024-06-21T06:42:59.604243Z"
    }
   },
   "id": "d0963b5f31426b56",
   "execution_count": 12
  },
  {
   "cell_type": "code",
   "outputs": [
    {
     "name": "stdout",
     "output_type": "stream",
     "text": [
      "\u001B[32mCreated a Docs as \u001B[39mA docs\u001B[32m in folder \u001B[39m1_bpyZQJezH6HYGLj3f8uk-iOBYA-2vO_\n"
     ]
    }
   ],
   "source": [
    "created_file_2 = drive.Files.create(name='A docs', mime_type=MimeTypes.DOCS, dest_folder_id=folder.get('id'))"
   ],
   "metadata": {
    "collapsed": false,
    "ExecuteTime": {
     "end_time": "2024-06-21T06:43:01.346860Z",
     "start_time": "2024-06-21T06:42:59.609126Z"
    }
   },
   "id": "f7b3ff265bd6d5ba",
   "execution_count": 13
  },
  {
   "cell_type": "code",
   "outputs": [
    {
     "name": "stdout",
     "output_type": "stream",
     "text": [
      "\u001B[32mCreated a Folder as \u001B[39mSub folder\u001B[32m in folder \u001B[39m1_bpyZQJezH6HYGLj3f8uk-iOBYA-2vO_\n"
     ]
    }
   ],
   "source": [
    "sub_folder = drive.Files.create(name='Sub folder', mime_type=MimeTypes.FOLDER, dest_folder_id=folder.get('id'))"
   ],
   "metadata": {
    "collapsed": false,
    "ExecuteTime": {
     "end_time": "2024-06-21T06:43:02.154848Z",
     "start_time": "2024-06-21T06:43:01.349638Z"
    }
   },
   "id": "6ae5bb5021cda79f",
   "execution_count": 14
  },
  {
   "cell_type": "code",
   "outputs": [
    {
     "name": "stdout",
     "output_type": "stream",
     "text": [
      "{'id': '1At9XME9BsGWeXhrDtrxyATZZq_g52uZk', 'name': 'Sub folder', 'mimeType': 'application/vnd.google-apps.folder', 'parents': ['1_bpyZQJezH6HYGLj3f8uk-iOBYA-2vO_'], 'webViewLink': 'https://drive.google.com/drive/folders/1At9XME9BsGWeXhrDtrxyATZZq_g52uZk', 'owners': [{'kind': 'drive#user', 'displayName': 'scheduled-update@vn-commercial-analytics.iam.gserviceaccount.com', 'photoLink': 'https://lh3.googleusercontent.com/a/ACg8ocLLRXuvqntf_wWYDF337mxpjHbjG26Fp3qvbMc0Y2DCj7gXaQ=s64', 'me': True, 'permissionId': '16253811486374742618', 'emailAddress': 'scheduled-update@vn-commercial-analytics.iam.gserviceaccount.com'}]}\n"
     ]
    }
   ],
   "source": [
    "print(sub_folder)"
   ],
   "metadata": {
    "collapsed": false,
    "ExecuteTime": {
     "end_time": "2024-06-21T06:43:02.158663Z",
     "start_time": "2024-06-21T06:43:02.155903Z"
    }
   },
   "id": "cf17d0bea735c412",
   "execution_count": 15
  },
  {
   "cell_type": "code",
   "outputs": [
    {
     "name": "stdout",
     "output_type": "stream",
     "text": [
      "\u001B[32mCreated a shortcut of \u001B[39m1-z9hk-4R0L1zSfLUFIf6Esxr_5qvsUiHNjMEbmIjdg0\u001B[32m as \u001B[39mA sheets\n"
     ]
    }
   ],
   "source": [
    "shortcut = drive.Files.create_shortcut(file_id=created_file.get('id'), dest_folder_id=folder.get('id'))"
   ],
   "metadata": {
    "collapsed": false,
    "ExecuteTime": {
     "end_time": "2024-06-21T06:43:03.408382Z",
     "start_time": "2024-06-21T06:43:02.159365Z"
    }
   },
   "id": "6d8b163a330dc3c0",
   "execution_count": 16
  },
  {
   "cell_type": "code",
   "outputs": [
    {
     "name": "stdout",
     "output_type": "stream",
     "text": [
      "{'id': '1QxuBx6KNwkY1OfxMvJgDNYI_of-N1pPV', 'name': 'A sheets', 'mimeType': 'application/vnd.google-apps.shortcut', 'parents': ['1_bpyZQJezH6HYGLj3f8uk-iOBYA-2vO_'], 'webViewLink': 'https://drive.google.com/file/d/1QxuBx6KNwkY1OfxMvJgDNYI_of-N1pPV/view?usp=drivesdk', 'owners': [{'kind': 'drive#user', 'displayName': 'scheduled-update@vn-commercial-analytics.iam.gserviceaccount.com', 'photoLink': 'https://lh3.googleusercontent.com/a/ACg8ocLLRXuvqntf_wWYDF337mxpjHbjG26Fp3qvbMc0Y2DCj7gXaQ=s64', 'me': True, 'permissionId': '16253811486374742618', 'emailAddress': 'scheduled-update@vn-commercial-analytics.iam.gserviceaccount.com'}], 'shortcutDetails': {'targetId': '1-z9hk-4R0L1zSfLUFIf6Esxr_5qvsUiHNjMEbmIjdg0', 'targetMimeType': 'application/vnd.google-apps.spreadsheet'}}\n"
     ]
    }
   ],
   "source": [
    "print(shortcut)"
   ],
   "metadata": {
    "collapsed": false,
    "ExecuteTime": {
     "end_time": "2024-06-21T06:43:03.411159Z",
     "start_time": "2024-06-21T06:43:03.409148Z"
    }
   },
   "id": "f48141c3183dd59f",
   "execution_count": 17
  },
  {
   "cell_type": "markdown",
   "source": [
    "## Upload"
   ],
   "metadata": {
    "collapsed": false
   },
   "id": "eaaaeb15d6375d6e"
  },
  {
   "cell_type": "code",
   "outputs": [
    {
     "name": "stdout",
     "output_type": "stream",
     "text": [
      "\u001B[32mUploaded \u001B[39mREADME.md\u001B[32m to folder \u001B[39m1_bpyZQJezH6HYGLj3f8uk-iOBYA-2vO_\n"
     ]
    }
   ],
   "source": [
    "uploaded_file = drive.Files.upload(file='README.md', dest_folder_id=folder.get('id'))"
   ],
   "metadata": {
    "collapsed": false,
    "ExecuteTime": {
     "end_time": "2024-06-21T06:43:05.434871Z",
     "start_time": "2024-06-21T06:43:03.411975Z"
    }
   },
   "id": "278bc483347e34f7",
   "execution_count": 18
  },
  {
   "cell_type": "code",
   "outputs": [
    {
     "name": "stdout",
     "output_type": "stream",
     "text": [
      "GoogleDriveFile({'title': 'README.md', 'parents': [{'selfLink': 'https://www.googleapis.com/drive/v2/files/1Bc-R3dJl8ptSc9HpGXYlolQ_-KEUqwoz/parents/1_bpyZQJezH6HYGLj3f8uk-iOBYA-2vO_', 'id': '1_bpyZQJezH6HYGLj3f8uk-iOBYA-2vO_', 'isRoot': False, 'kind': 'drive#parentReference', 'parentLink': 'https://www.googleapis.com/drive/v2/files/1_bpyZQJezH6HYGLj3f8uk-iOBYA-2vO_'}], 'mimeType': 'text/markdown', 'kind': 'drive#file', 'userPermission': {'id': 'me', 'type': 'user', 'role': 'owner', 'kind': 'drive#permission', 'selfLink': 'https://www.googleapis.com/drive/v2/files/1Bc-R3dJl8ptSc9HpGXYlolQ_-KEUqwoz/permissions/me', 'etag': '\"nliINF_KQVWde5-g03asW1FkJpE\"', 'pendingOwner': False}, 'fileExtension': 'md', 'md5Checksum': 'f5dac20da65b042552edefd25c35a60c', 'selfLink': 'https://www.googleapis.com/drive/v2/files/1Bc-R3dJl8ptSc9HpGXYlolQ_-KEUqwoz', 'ownerNames': ['scheduled-update@vn-commercial-analytics.iam.gserviceaccount.com'], 'lastModifyingUserName': 'scheduled-update@vn-commercial-analytics.iam.gserviceaccount.com', 'editable': True, 'writersCanShare': True, 'downloadUrl': 'https://www.googleapis.com/drive/v2/files/1Bc-R3dJl8ptSc9HpGXYlolQ_-KEUqwoz?alt=media&source=downloadUrl', 'appDataContents': False, 'iconLink': 'https://drive-thirdparty.googleusercontent.com/16/type/text/markdown', 'shared': False, 'lastModifyingUser': {'displayName': 'scheduled-update@vn-commercial-analytics.iam.gserviceaccount.com', 'kind': 'drive#user', 'isAuthenticatedUser': True, 'permissionId': '16253811486374742618', 'emailAddress': 'scheduled-update@vn-commercial-analytics.iam.gserviceaccount.com', 'picture': {'url': 'https://lh3.googleusercontent.com/a/ACg8ocLLRXuvqntf_wWYDF337mxpjHbjG26Fp3qvbMc0Y2DCj7gXaQ=s64'}}, 'owners': [{'displayName': 'scheduled-update@vn-commercial-analytics.iam.gserviceaccount.com', 'kind': 'drive#user', 'isAuthenticatedUser': True, 'permissionId': '16253811486374742618', 'emailAddress': 'scheduled-update@vn-commercial-analytics.iam.gserviceaccount.com', 'picture': {'url': 'https://lh3.googleusercontent.com/a/ACg8ocLLRXuvqntf_wWYDF337mxpjHbjG26Fp3qvbMc0Y2DCj7gXaQ=s64'}}], 'headRevisionId': '0B04Zombo0DUbRUo1enpjVXRJK0lKY0dKbmVlVWJNVm91SUdBPQ', 'copyable': True, 'etag': '\"MTcxODk1MjE4NDY0Mg\"', 'alternateLink': 'https://drive.google.com/file/d/1Bc-R3dJl8ptSc9HpGXYlolQ_-KEUqwoz/view?usp=drivesdk', 'embedLink': 'https://drive.google.com/file/d/1Bc-R3dJl8ptSc9HpGXYlolQ_-KEUqwoz/preview?usp=drivesdk', 'webContentLink': 'https://drive.google.com/uc?id=1Bc-R3dJl8ptSc9HpGXYlolQ_-KEUqwoz&export=download', 'fileSize': '3644', 'copyRequiresWriterPermission': False, 'spaces': ['drive'], 'id': '1Bc-R3dJl8ptSc9HpGXYlolQ_-KEUqwoz', 'labels': {'viewed': True, 'restricted': False, 'starred': False, 'hidden': False, 'trashed': False}, 'explicitlyTrashed': False, 'createdDate': '2024-06-21T06:43:04.642Z', 'modifiedDate': '2024-06-21T06:43:04.642Z', 'modifiedByMeDate': '2024-06-21T06:43:04.642Z', 'lastViewedByMeDate': '2024-06-21T06:43:04.642Z', 'markedViewedByMeDate': '1970-01-01T00:00:00.000Z', 'quotaBytesUsed': '3644', 'version': '1', 'originalFilename': 'README.md', 'capabilities': {'canEdit': True, 'canCopy': True}})\n"
     ]
    }
   ],
   "source": [
    "print(uploaded_file)"
   ],
   "metadata": {
    "collapsed": false,
    "ExecuteTime": {
     "end_time": "2024-06-21T06:43:05.438839Z",
     "start_time": "2024-06-21T06:43:05.436127Z"
    }
   },
   "id": "a640bc996c68ab32",
   "execution_count": 19
  },
  {
   "cell_type": "markdown",
   "source": [
    "## Get"
   ],
   "metadata": {
    "collapsed": false
   },
   "id": "f45e7d44f12cbee2"
  },
  {
   "cell_type": "code",
   "outputs": [],
   "source": [
    "file_info = drive.Files.get(file_id=uploaded_file.get('id'))"
   ],
   "metadata": {
    "collapsed": false,
    "ExecuteTime": {
     "end_time": "2024-06-21T06:43:05.762682Z",
     "start_time": "2024-06-21T06:43:05.439979Z"
    }
   },
   "id": "a42804b739c55595",
   "execution_count": 20
  },
  {
   "cell_type": "code",
   "outputs": [
    {
     "name": "stdout",
     "output_type": "stream",
     "text": [
      "{'kind': 'drive#file', 'id': '1Bc-R3dJl8ptSc9HpGXYlolQ_-KEUqwoz', 'name': 'README.md', 'mimeType': 'text/markdown', 'starred': False, 'trashed': False, 'explicitlyTrashed': False, 'parents': ['1_bpyZQJezH6HYGLj3f8uk-iOBYA-2vO_'], 'spaces': ['drive'], 'version': '1', 'webContentLink': 'https://drive.google.com/uc?id=1Bc-R3dJl8ptSc9HpGXYlolQ_-KEUqwoz&export=download', 'webViewLink': 'https://drive.google.com/file/d/1Bc-R3dJl8ptSc9HpGXYlolQ_-KEUqwoz/view?usp=drivesdk', 'iconLink': 'https://drive-thirdparty.googleusercontent.com/16/type/text/markdown', 'hasThumbnail': False, 'thumbnailVersion': '0', 'viewedByMe': True, 'viewedByMeTime': '2024-06-21T06:43:04.642Z', 'createdTime': '2024-06-21T06:43:04.642Z', 'modifiedTime': '2024-06-21T06:43:04.642Z', 'modifiedByMeTime': '2024-06-21T06:43:04.642Z', 'modifiedByMe': True, 'owners': [{'kind': 'drive#user', 'displayName': 'scheduled-update@vn-commercial-analytics.iam.gserviceaccount.com', 'photoLink': 'https://lh3.googleusercontent.com/a/ACg8ocLLRXuvqntf_wWYDF337mxpjHbjG26Fp3qvbMc0Y2DCj7gXaQ=s64', 'me': True, 'permissionId': '16253811486374742618', 'emailAddress': 'scheduled-update@vn-commercial-analytics.iam.gserviceaccount.com'}], 'lastModifyingUser': {'kind': 'drive#user', 'displayName': 'scheduled-update@vn-commercial-analytics.iam.gserviceaccount.com', 'photoLink': 'https://lh3.googleusercontent.com/a/ACg8ocLLRXuvqntf_wWYDF337mxpjHbjG26Fp3qvbMc0Y2DCj7gXaQ=s64', 'me': True, 'permissionId': '16253811486374742618', 'emailAddress': 'scheduled-update@vn-commercial-analytics.iam.gserviceaccount.com'}, 'shared': False, 'ownedByMe': True, 'capabilities': {'canAcceptOwnership': False, 'canAddChildren': False, 'canAddMyDriveParent': False, 'canChangeCopyRequiresWriterPermission': True, 'canChangeSecurityUpdateEnabled': False, 'canChangeViewersCanCopyContent': True, 'canComment': True, 'canCopy': True, 'canDelete': True, 'canDownload': True, 'canEdit': True, 'canListChildren': False, 'canModifyContent': True, 'canModifyContentRestriction': True, 'canModifyEditorContentRestriction': True, 'canModifyOwnerContentRestriction': True, 'canModifyLabels': False, 'canMoveChildrenWithinDrive': False, 'canMoveItemIntoTeamDrive': True, 'canMoveItemOutOfDrive': True, 'canMoveItemWithinDrive': True, 'canReadLabels': False, 'canReadRevisions': True, 'canRemoveChildren': False, 'canRemoveContentRestriction': False, 'canRemoveMyDriveParent': True, 'canRename': True, 'canShare': True, 'canTrash': True, 'canUntrash': True}, 'viewersCanCopyContent': True, 'copyRequiresWriterPermission': False, 'writersCanShare': True, 'permissions': [{'kind': 'drive#permission', 'id': '16253811486374742618', 'type': 'user', 'emailAddress': 'scheduled-update@vn-commercial-analytics.iam.gserviceaccount.com', 'role': 'owner', 'displayName': 'scheduled-update@vn-commercial-analytics.iam.gserviceaccount.com', 'photoLink': 'https://lh3.googleusercontent.com/a/ACg8ocLLRXuvqntf_wWYDF337mxpjHbjG26Fp3qvbMc0Y2DCj7gXaQ=s64', 'deleted': False, 'pendingOwner': False}], 'permissionIds': ['16253811486374742618'], 'originalFilename': 'README.md', 'fullFileExtension': 'md', 'fileExtension': 'md', 'md5Checksum': 'f5dac20da65b042552edefd25c35a60c', 'sha1Checksum': 'da376bbc34c036be6114a421fc0506ca5b07b310', 'sha256Checksum': '44235e4071ca5bd8d4df457dfe47e49e34d0cb352b98633c70d32cfcf305c955', 'size': '3644', 'quotaBytesUsed': '3644', 'headRevisionId': '0B04Zombo0DUbRUo1enpjVXRJK0lKY0dKbmVlVWJNVm91SUdBPQ', 'isAppAuthorized': True, 'linkShareMetadata': {'securityUpdateEligible': False, 'securityUpdateEnabled': True}}\n"
     ]
    }
   ],
   "source": [
    "print(file_info)"
   ],
   "metadata": {
    "collapsed": false,
    "ExecuteTime": {
     "end_time": "2024-06-21T06:43:05.766031Z",
     "start_time": "2024-06-21T06:43:05.763845Z"
    }
   },
   "id": "dff7be160e32a589",
   "execution_count": 21
  },
  {
   "cell_type": "code",
   "outputs": [],
   "source": [
    "folder_info = drive.Files.get(file_id=folder.get('id'))"
   ],
   "metadata": {
    "collapsed": false,
    "ExecuteTime": {
     "end_time": "2024-06-21T06:43:06.101174Z",
     "start_time": "2024-06-21T06:43:05.766838Z"
    }
   },
   "id": "601a4f4c1faf3385",
   "execution_count": 22
  },
  {
   "cell_type": "code",
   "outputs": [
    {
     "name": "stdout",
     "output_type": "stream",
     "text": [
      "{'kind': 'drive#file', 'id': '1Bc-R3dJl8ptSc9HpGXYlolQ_-KEUqwoz', 'name': 'README.md', 'mimeType': 'text/markdown', 'starred': False, 'trashed': False, 'explicitlyTrashed': False, 'parents': ['1_bpyZQJezH6HYGLj3f8uk-iOBYA-2vO_'], 'spaces': ['drive'], 'version': '1', 'webContentLink': 'https://drive.google.com/uc?id=1Bc-R3dJl8ptSc9HpGXYlolQ_-KEUqwoz&export=download', 'webViewLink': 'https://drive.google.com/file/d/1Bc-R3dJl8ptSc9HpGXYlolQ_-KEUqwoz/view?usp=drivesdk', 'iconLink': 'https://drive-thirdparty.googleusercontent.com/16/type/text/markdown', 'hasThumbnail': False, 'thumbnailVersion': '0', 'viewedByMe': True, 'viewedByMeTime': '2024-06-21T06:43:04.642Z', 'createdTime': '2024-06-21T06:43:04.642Z', 'modifiedTime': '2024-06-21T06:43:04.642Z', 'modifiedByMeTime': '2024-06-21T06:43:04.642Z', 'modifiedByMe': True, 'owners': [{'kind': 'drive#user', 'displayName': 'scheduled-update@vn-commercial-analytics.iam.gserviceaccount.com', 'photoLink': 'https://lh3.googleusercontent.com/a/ACg8ocLLRXuvqntf_wWYDF337mxpjHbjG26Fp3qvbMc0Y2DCj7gXaQ=s64', 'me': True, 'permissionId': '16253811486374742618', 'emailAddress': 'scheduled-update@vn-commercial-analytics.iam.gserviceaccount.com'}], 'lastModifyingUser': {'kind': 'drive#user', 'displayName': 'scheduled-update@vn-commercial-analytics.iam.gserviceaccount.com', 'photoLink': 'https://lh3.googleusercontent.com/a/ACg8ocLLRXuvqntf_wWYDF337mxpjHbjG26Fp3qvbMc0Y2DCj7gXaQ=s64', 'me': True, 'permissionId': '16253811486374742618', 'emailAddress': 'scheduled-update@vn-commercial-analytics.iam.gserviceaccount.com'}, 'shared': False, 'ownedByMe': True, 'capabilities': {'canAcceptOwnership': False, 'canAddChildren': False, 'canAddMyDriveParent': False, 'canChangeCopyRequiresWriterPermission': True, 'canChangeSecurityUpdateEnabled': False, 'canChangeViewersCanCopyContent': True, 'canComment': True, 'canCopy': True, 'canDelete': True, 'canDownload': True, 'canEdit': True, 'canListChildren': False, 'canModifyContent': True, 'canModifyContentRestriction': True, 'canModifyEditorContentRestriction': True, 'canModifyOwnerContentRestriction': True, 'canModifyLabels': False, 'canMoveChildrenWithinDrive': False, 'canMoveItemIntoTeamDrive': True, 'canMoveItemOutOfDrive': True, 'canMoveItemWithinDrive': True, 'canReadLabels': False, 'canReadRevisions': True, 'canRemoveChildren': False, 'canRemoveContentRestriction': False, 'canRemoveMyDriveParent': True, 'canRename': True, 'canShare': True, 'canTrash': True, 'canUntrash': True}, 'viewersCanCopyContent': True, 'copyRequiresWriterPermission': False, 'writersCanShare': True, 'permissions': [{'kind': 'drive#permission', 'id': '16253811486374742618', 'type': 'user', 'emailAddress': 'scheduled-update@vn-commercial-analytics.iam.gserviceaccount.com', 'role': 'owner', 'displayName': 'scheduled-update@vn-commercial-analytics.iam.gserviceaccount.com', 'photoLink': 'https://lh3.googleusercontent.com/a/ACg8ocLLRXuvqntf_wWYDF337mxpjHbjG26Fp3qvbMc0Y2DCj7gXaQ=s64', 'deleted': False, 'pendingOwner': False}], 'permissionIds': ['16253811486374742618'], 'originalFilename': 'README.md', 'fullFileExtension': 'md', 'fileExtension': 'md', 'md5Checksum': 'f5dac20da65b042552edefd25c35a60c', 'sha1Checksum': 'da376bbc34c036be6114a421fc0506ca5b07b310', 'sha256Checksum': '44235e4071ca5bd8d4df457dfe47e49e34d0cb352b98633c70d32cfcf305c955', 'size': '3644', 'quotaBytesUsed': '3644', 'headRevisionId': '0B04Zombo0DUbRUo1enpjVXRJK0lKY0dKbmVlVWJNVm91SUdBPQ', 'isAppAuthorized': True, 'linkShareMetadata': {'securityUpdateEligible': False, 'securityUpdateEnabled': True}}\n"
     ]
    }
   ],
   "source": [
    "print(file_info)"
   ],
   "metadata": {
    "collapsed": false,
    "ExecuteTime": {
     "end_time": "2024-06-21T06:43:06.104798Z",
     "start_time": "2024-06-21T06:43:06.102054Z"
    }
   },
   "id": "284e38f69c9f01",
   "execution_count": 23
  },
  {
   "cell_type": "markdown",
   "source": [
    "## Move"
   ],
   "metadata": {
    "collapsed": false
   },
   "id": "e6cbfa2bef7f91c2"
  },
  {
   "cell_type": "code",
   "outputs": [
    {
     "name": "stdout",
     "output_type": "stream",
     "text": [
      "\u001B[34mMoved \u001B[39mREADME.md\u001B[34m to folder \u001B[39m1At9XME9BsGWeXhrDtrxyATZZq_g52uZk\n"
     ]
    }
   ],
   "source": [
    "moved_file = drive.Files.move(file_id=uploaded_file.get('id'), dest_folder_id=sub_folder.get('id'))"
   ],
   "metadata": {
    "collapsed": false,
    "ExecuteTime": {
     "end_time": "2024-06-21T06:43:07.276632Z",
     "start_time": "2024-06-21T06:43:06.105809Z"
    }
   },
   "id": "279fb3aaf13f9cdd",
   "execution_count": 24
  },
  {
   "cell_type": "code",
   "outputs": [
    {
     "name": "stdout",
     "output_type": "stream",
     "text": [
      "{'id': '1Bc-R3dJl8ptSc9HpGXYlolQ_-KEUqwoz', 'name': 'README.md', 'mimeType': 'text/markdown', 'parents': ['1At9XME9BsGWeXhrDtrxyATZZq_g52uZk'], 'webViewLink': 'https://drive.google.com/file/d/1Bc-R3dJl8ptSc9HpGXYlolQ_-KEUqwoz/view?usp=drivesdk', 'owners': [{'kind': 'drive#user', 'displayName': 'scheduled-update@vn-commercial-analytics.iam.gserviceaccount.com', 'photoLink': 'https://lh3.googleusercontent.com/a/ACg8ocLLRXuvqntf_wWYDF337mxpjHbjG26Fp3qvbMc0Y2DCj7gXaQ=s64', 'me': True, 'permissionId': '16253811486374742618', 'emailAddress': 'scheduled-update@vn-commercial-analytics.iam.gserviceaccount.com'}], 'size': '3644'}\n"
     ]
    }
   ],
   "source": [
    "print(moved_file)"
   ],
   "metadata": {
    "collapsed": false,
    "ExecuteTime": {
     "end_time": "2024-06-21T06:43:07.279428Z",
     "start_time": "2024-06-21T06:43:07.277399Z"
    }
   },
   "id": "4907b66fd77d5679",
   "execution_count": 25
  },
  {
   "cell_type": "markdown",
   "source": [
    "## Copy"
   ],
   "metadata": {
    "collapsed": false
   },
   "id": "8bc110dcdfb8a450"
  },
  {
   "cell_type": "code",
   "outputs": [
    {
     "name": "stdout",
     "output_type": "stream",
     "text": [
      "\u001B[32mCopied \u001B[39mA sheets\u001B[32m to \u001B[39mCopy of A sheets\u001B[32m in folder \u001B[39m1At9XME9BsGWeXhrDtrxyATZZq_g52uZk\n"
     ]
    }
   ],
   "source": [
    "copied_file = drive.Files.copy(file_id=created_file.get('id'), dest_folder_id=sub_folder.get('id'), name_prefix='Copy of ')"
   ],
   "metadata": {
    "collapsed": false,
    "ExecuteTime": {
     "end_time": "2024-06-21T06:43:10.247256Z",
     "start_time": "2024-06-21T06:43:07.280183Z"
    }
   },
   "id": "b501537e1a1cfcd2",
   "execution_count": 26
  },
  {
   "cell_type": "code",
   "outputs": [
    {
     "name": "stdout",
     "output_type": "stream",
     "text": [
      "{'id': '1MN5DdSW0tFrkTOTwTZe76X4keqbo_VVINeR9VcuJWm8', 'name': 'Copy of A sheets', 'mimeType': 'application/vnd.google-apps.spreadsheet', 'parents': ['1At9XME9BsGWeXhrDtrxyATZZq_g52uZk'], 'webViewLink': 'https://docs.google.com/spreadsheets/d/1MN5DdSW0tFrkTOTwTZe76X4keqbo_VVINeR9VcuJWm8/edit?usp=drivesdk', 'owners': [{'kind': 'drive#user', 'displayName': 'scheduled-update@vn-commercial-analytics.iam.gserviceaccount.com', 'photoLink': 'https://lh3.googleusercontent.com/a/ACg8ocLLRXuvqntf_wWYDF337mxpjHbjG26Fp3qvbMc0Y2DCj7gXaQ=s64', 'me': True, 'permissionId': '16253811486374742618', 'emailAddress': 'scheduled-update@vn-commercial-analytics.iam.gserviceaccount.com'}], 'size': '1'}\n"
     ]
    }
   ],
   "source": [
    "print(copied_file)"
   ],
   "metadata": {
    "collapsed": false,
    "ExecuteTime": {
     "end_time": "2024-06-21T06:43:10.250151Z",
     "start_time": "2024-06-21T06:43:10.248082Z"
    }
   },
   "id": "fecce03d22d6d24f",
   "execution_count": 27
  },
  {
   "cell_type": "markdown",
   "source": [
    "## Rename"
   ],
   "metadata": {
    "collapsed": false
   },
   "id": "ab8b06c087326603"
  },
  {
   "cell_type": "code",
   "outputs": [
    {
     "name": "stdout",
     "output_type": "stream",
     "text": [
      "\u001B[34mRenamed \u001B[39m1QxuBx6KNwkY1OfxMvJgDNYI_of-N1pPV \u001B[34mto \u001B[39mA shortcut\n"
     ]
    }
   ],
   "source": [
    "renamed_file = drive.Files.rename(file_id=shortcut.get('id'), name='A shortcut')"
   ],
   "metadata": {
    "collapsed": false,
    "ExecuteTime": {
     "end_time": "2024-06-21T06:43:10.842853Z",
     "start_time": "2024-06-21T06:43:10.250868Z"
    }
   },
   "id": "205b218d2cb78fb1",
   "execution_count": 28
  },
  {
   "cell_type": "code",
   "outputs": [
    {
     "name": "stdout",
     "output_type": "stream",
     "text": [
      "{'id': '1QxuBx6KNwkY1OfxMvJgDNYI_of-N1pPV', 'name': 'A shortcut', 'mimeType': 'application/vnd.google-apps.shortcut', 'parents': ['1_bpyZQJezH6HYGLj3f8uk-iOBYA-2vO_'], 'webViewLink': 'https://drive.google.com/file/d/1QxuBx6KNwkY1OfxMvJgDNYI_of-N1pPV/view?usp=drivesdk', 'owners': [{'kind': 'drive#user', 'displayName': 'scheduled-update@vn-commercial-analytics.iam.gserviceaccount.com', 'photoLink': 'https://lh3.googleusercontent.com/a/ACg8ocLLRXuvqntf_wWYDF337mxpjHbjG26Fp3qvbMc0Y2DCj7gXaQ=s64', 'me': True, 'permissionId': '16253811486374742618', 'emailAddress': 'scheduled-update@vn-commercial-analytics.iam.gserviceaccount.com'}]}\n"
     ]
    }
   ],
   "source": [
    "print(renamed_file)"
   ],
   "metadata": {
    "collapsed": false,
    "ExecuteTime": {
     "end_time": "2024-06-21T06:43:10.845608Z",
     "start_time": "2024-06-21T06:43:10.843641Z"
    }
   },
   "id": "dab94d01c33dbb2e",
   "execution_count": 29
  },
  {
   "cell_type": "markdown",
   "source": [
    "## Restrict"
   ],
   "metadata": {
    "collapsed": false
   },
   "id": "71b4c14ffaeeda03"
  },
  {
   "cell_type": "code",
   "outputs": [
    {
     "name": "stdout",
     "output_type": "stream",
     "text": [
      "\u001B[34mUpdated content restriction for \u001B[39m1-z9hk-4R0L1zSfLUFIf6Esxr_5qvsUiHNjMEbmIjdg0\n"
     ]
    }
   ],
   "source": [
    "restricted_file = drive.Files.restrict(file_id=created_file.get('id'), read_only=True, owner_restricted=False, reason='Final contract')"
   ],
   "metadata": {
    "collapsed": false,
    "ExecuteTime": {
     "end_time": "2024-06-21T06:43:11.761904Z",
     "start_time": "2024-06-21T06:43:10.846229Z"
    }
   },
   "id": "808fa2a2760bfbe0",
   "execution_count": 30
  },
  {
   "cell_type": "code",
   "outputs": [
    {
     "name": "stdout",
     "output_type": "stream",
     "text": [
      "{'id': '1-z9hk-4R0L1zSfLUFIf6Esxr_5qvsUiHNjMEbmIjdg0', 'name': 'A sheets', 'mimeType': 'application/vnd.google-apps.spreadsheet', 'parents': ['1_bpyZQJezH6HYGLj3f8uk-iOBYA-2vO_'], 'webViewLink': 'https://docs.google.com/spreadsheets/d/1-z9hk-4R0L1zSfLUFIf6Esxr_5qvsUiHNjMEbmIjdg0/edit?usp=drivesdk', 'owners': [{'kind': 'drive#user', 'displayName': 'scheduled-update@vn-commercial-analytics.iam.gserviceaccount.com', 'photoLink': 'https://lh3.googleusercontent.com/a/ACg8ocLLRXuvqntf_wWYDF337mxpjHbjG26Fp3qvbMc0Y2DCj7gXaQ=s64', 'me': True, 'permissionId': '16253811486374742618', 'emailAddress': 'scheduled-update@vn-commercial-analytics.iam.gserviceaccount.com'}], 'size': '1024', 'contentRestrictions': [{'readOnly': True, 'reason': 'Final contract', 'restrictingUser': {'kind': 'drive#user', 'displayName': 'scheduled-update@vn-commercial-analytics.iam.gserviceaccount.com', 'photoLink': 'https://lh3.googleusercontent.com/a/ACg8ocLLRXuvqntf_wWYDF337mxpjHbjG26Fp3qvbMc0Y2DCj7gXaQ=s64', 'me': True, 'permissionId': '16253811486374742618', 'emailAddress': 'scheduled-update@vn-commercial-analytics.iam.gserviceaccount.com'}, 'restrictionTime': '2024-06-21T06:43:11.337Z', 'type': 'globalContentRestriction', 'ownerRestricted': False, 'systemRestricted': False}]}\n"
     ]
    }
   ],
   "source": [
    "print(restricted_file)"
   ],
   "metadata": {
    "collapsed": false,
    "ExecuteTime": {
     "end_time": "2024-06-21T06:43:11.771653Z",
     "start_time": "2024-06-21T06:43:11.766377Z"
    }
   },
   "id": "4415238bfbdf15ff",
   "execution_count": 31
  },
  {
   "cell_type": "code",
   "outputs": [
    {
     "name": "stdout",
     "output_type": "stream",
     "text": [
      "\u001B[34mUpdated content restriction for \u001B[39m1-z9hk-4R0L1zSfLUFIf6Esxr_5qvsUiHNjMEbmIjdg0\n"
     ]
    },
    {
     "data": {
      "text/plain": "{'id': '1-z9hk-4R0L1zSfLUFIf6Esxr_5qvsUiHNjMEbmIjdg0',\n 'name': 'A sheets',\n 'mimeType': 'application/vnd.google-apps.spreadsheet',\n 'parents': ['1_bpyZQJezH6HYGLj3f8uk-iOBYA-2vO_'],\n 'webViewLink': 'https://docs.google.com/spreadsheets/d/1-z9hk-4R0L1zSfLUFIf6Esxr_5qvsUiHNjMEbmIjdg0/edit?usp=drivesdk',\n 'owners': [{'kind': 'drive#user',\n   'displayName': 'scheduled-update@vn-commercial-analytics.iam.gserviceaccount.com',\n   'photoLink': 'https://lh3.googleusercontent.com/a/ACg8ocLLRXuvqntf_wWYDF337mxpjHbjG26Fp3qvbMc0Y2DCj7gXaQ=s64',\n   'me': True,\n   'permissionId': '16253811486374742618',\n   'emailAddress': 'scheduled-update@vn-commercial-analytics.iam.gserviceaccount.com'}],\n 'size': '1024'}"
     },
     "execution_count": 32,
     "metadata": {},
     "output_type": "execute_result"
    }
   ],
   "source": [
    "drive.Files.restrict(file_id=created_file.get('id'), read_only=False)"
   ],
   "metadata": {
    "collapsed": false,
    "ExecuteTime": {
     "end_time": "2024-06-21T06:43:12.452948Z",
     "start_time": "2024-06-21T06:43:11.792562Z"
    }
   },
   "id": "ac626577e364ebbb",
   "execution_count": 32
  },
  {
   "cell_type": "markdown",
   "source": [
    "## List"
   ],
   "metadata": {
    "collapsed": false
   },
   "id": "764379307954707b"
  },
  {
   "cell_type": "code",
   "outputs": [
    {
     "name": "stdout",
     "output_type": "stream",
     "text": [
      "Found file: \u001B[34mA shortcut\u001B[39m, 1QxuBx6KNwkY1OfxMvJgDNYI_of-N1pPV\n",
      "Found file: \u001B[34mSub folder\u001B[39m, 1At9XME9BsGWeXhrDtrxyATZZq_g52uZk\n",
      "Found file: \u001B[34mA docs\u001B[39m, 1D9gNcZIaLjNGFmYbUNfVkWhpWtT1S-aX5SpciHbyG90\n",
      "Found file: \u001B[34mA sheets\u001B[39m, 1-z9hk-4R0L1zSfLUFIf6Esxr_5qvsUiHNjMEbmIjdg0\n"
     ]
    }
   ],
   "source": [
    "files = pd.DataFrame(drive.Files.list(SearchTerms.folder_id(folder.get('id')), SearchTerms.createdTime_greater_equal('2024-06-01')))"
   ],
   "metadata": {
    "collapsed": false,
    "ExecuteTime": {
     "end_time": "2024-06-21T06:43:12.864466Z",
     "start_time": "2024-06-21T06:43:12.453827Z"
    }
   },
   "id": "70f1218ec8ad7ae8",
   "execution_count": 33
  },
  {
   "cell_type": "code",
   "outputs": [
    {
     "data": {
      "text/plain": "         kind  copyRequiresWriterPermission  writersCanShare  viewedByMe  \\\n0  drive#file                         False             True       False   \n1  drive#file                         False             True       False   \n2  drive#file                         False             True        True   \n3  drive#file                         False             True        True   \n\n                                  mimeType  \\\n0     application/vnd.google-apps.shortcut   \n1       application/vnd.google-apps.folder   \n2     application/vnd.google-apps.document   \n3  application/vnd.google-apps.spreadsheet   \n\n                               parents  \\\n0  [1_bpyZQJezH6HYGLj3f8uk-iOBYA-2vO_]   \n1  [1_bpyZQJezH6HYGLj3f8uk-iOBYA-2vO_]   \n2  [1_bpyZQJezH6HYGLj3f8uk-iOBYA-2vO_]   \n3  [1_bpyZQJezH6HYGLj3f8uk-iOBYA-2vO_]   \n\n                                            iconLink  shared  \\\n0  https://drive-thirdparty.googleusercontent.com...   False   \n1  https://drive-thirdparty.googleusercontent.com...   False   \n2  https://drive-thirdparty.googleusercontent.com...   False   \n3  https://drive-thirdparty.googleusercontent.com...   False   \n\n                                   lastModifyingUser  \\\n0  {'displayName': 'scheduled-update@vn-commercia...   \n1  {'displayName': 'scheduled-update@vn-commercia...   \n2  {'displayName': 'scheduled-update@vn-commercia...   \n3  {'displayName': 'scheduled-update@vn-commercia...   \n\n                                              owners  ...  \\\n0  [{'displayName': 'scheduled-update@vn-commerci...  ...   \n1  [{'displayName': 'scheduled-update@vn-commerci...  ...   \n2  [{'displayName': 'scheduled-update@vn-commerci...  ...   \n3  [{'displayName': 'scheduled-update@vn-commerci...  ...   \n\n                                        capabilities  thumbnailVersion  \\\n0  {'canChangeViewersCanCopyContent': True, 'canE...                 0   \n1  {'canChangeViewersCanCopyContent': False, 'can...                 0   \n2  {'canChangeViewersCanCopyContent': True, 'canE...                 1   \n3  {'canChangeViewersCanCopyContent': True, 'canE...                 1   \n\n  modifiedByMe                                    shortcutDetails  \\\n0         True  {'targetId': '1-z9hk-4R0L1zSfLUFIf6Esxr_5qvsUi...   \n1         True                                                NaN   \n2         True                                                NaN   \n3         True                                                NaN   \n\n                                   linkShareMetadata folderColorRgb  \\\n0  {'securityUpdateEligible': False, 'securityUpd...            NaN   \n1  {'securityUpdateEligible': False, 'securityUpd...        #8f8f8f   \n2  {'securityUpdateEligible': False, 'securityUpd...            NaN   \n3  {'securityUpdateEligible': False, 'securityUpd...            NaN   \n\n                                         exportLinks  \\\n0                                                NaN   \n1                                                NaN   \n2  {'application/rtf': 'https://docs.google.com/f...   \n3  {'application/x-vnd.oasis.opendocument.spreads...   \n\n                                       thumbnailLink  size  \\\n0                                                NaN   NaN   \n1                                                NaN   NaN   \n2  https://lh3.googleusercontent.com/drive-storag...  1024   \n3  https://lh3.googleusercontent.com/drive-storag...  1024   \n\n             viewedByMeTime  \n0                       NaN  \n1                       NaN  \n2  2024-06-21T06:43:00.751Z  \n3  2024-06-21T06:42:57.853Z  \n\n[4 rows x 37 columns]",
      "text/html": "<div>\n<style scoped>\n    .dataframe tbody tr th:only-of-type {\n        vertical-align: middle;\n    }\n\n    .dataframe tbody tr th {\n        vertical-align: top;\n    }\n\n    .dataframe thead th {\n        text-align: right;\n    }\n</style>\n<table border=\"1\" class=\"dataframe\">\n  <thead>\n    <tr style=\"text-align: right;\">\n      <th></th>\n      <th>kind</th>\n      <th>copyRequiresWriterPermission</th>\n      <th>writersCanShare</th>\n      <th>viewedByMe</th>\n      <th>mimeType</th>\n      <th>parents</th>\n      <th>iconLink</th>\n      <th>shared</th>\n      <th>lastModifyingUser</th>\n      <th>owners</th>\n      <th>...</th>\n      <th>capabilities</th>\n      <th>thumbnailVersion</th>\n      <th>modifiedByMe</th>\n      <th>shortcutDetails</th>\n      <th>linkShareMetadata</th>\n      <th>folderColorRgb</th>\n      <th>exportLinks</th>\n      <th>thumbnailLink</th>\n      <th>size</th>\n      <th>viewedByMeTime</th>\n    </tr>\n  </thead>\n  <tbody>\n    <tr>\n      <th>0</th>\n      <td>drive#file</td>\n      <td>False</td>\n      <td>True</td>\n      <td>False</td>\n      <td>application/vnd.google-apps.shortcut</td>\n      <td>[1_bpyZQJezH6HYGLj3f8uk-iOBYA-2vO_]</td>\n      <td>https://drive-thirdparty.googleusercontent.com...</td>\n      <td>False</td>\n      <td>{'displayName': 'scheduled-update@vn-commercia...</td>\n      <td>[{'displayName': 'scheduled-update@vn-commerci...</td>\n      <td>...</td>\n      <td>{'canChangeViewersCanCopyContent': True, 'canE...</td>\n      <td>0</td>\n      <td>True</td>\n      <td>{'targetId': '1-z9hk-4R0L1zSfLUFIf6Esxr_5qvsUi...</td>\n      <td>{'securityUpdateEligible': False, 'securityUpd...</td>\n      <td>NaN</td>\n      <td>NaN</td>\n      <td>NaN</td>\n      <td>NaN</td>\n      <td>NaN</td>\n    </tr>\n    <tr>\n      <th>1</th>\n      <td>drive#file</td>\n      <td>False</td>\n      <td>True</td>\n      <td>False</td>\n      <td>application/vnd.google-apps.folder</td>\n      <td>[1_bpyZQJezH6HYGLj3f8uk-iOBYA-2vO_]</td>\n      <td>https://drive-thirdparty.googleusercontent.com...</td>\n      <td>False</td>\n      <td>{'displayName': 'scheduled-update@vn-commercia...</td>\n      <td>[{'displayName': 'scheduled-update@vn-commerci...</td>\n      <td>...</td>\n      <td>{'canChangeViewersCanCopyContent': False, 'can...</td>\n      <td>0</td>\n      <td>True</td>\n      <td>NaN</td>\n      <td>{'securityUpdateEligible': False, 'securityUpd...</td>\n      <td>#8f8f8f</td>\n      <td>NaN</td>\n      <td>NaN</td>\n      <td>NaN</td>\n      <td>NaN</td>\n    </tr>\n    <tr>\n      <th>2</th>\n      <td>drive#file</td>\n      <td>False</td>\n      <td>True</td>\n      <td>True</td>\n      <td>application/vnd.google-apps.document</td>\n      <td>[1_bpyZQJezH6HYGLj3f8uk-iOBYA-2vO_]</td>\n      <td>https://drive-thirdparty.googleusercontent.com...</td>\n      <td>False</td>\n      <td>{'displayName': 'scheduled-update@vn-commercia...</td>\n      <td>[{'displayName': 'scheduled-update@vn-commerci...</td>\n      <td>...</td>\n      <td>{'canChangeViewersCanCopyContent': True, 'canE...</td>\n      <td>1</td>\n      <td>True</td>\n      <td>NaN</td>\n      <td>{'securityUpdateEligible': False, 'securityUpd...</td>\n      <td>NaN</td>\n      <td>{'application/rtf': 'https://docs.google.com/f...</td>\n      <td>https://lh3.googleusercontent.com/drive-storag...</td>\n      <td>1024</td>\n      <td>2024-06-21T06:43:00.751Z</td>\n    </tr>\n    <tr>\n      <th>3</th>\n      <td>drive#file</td>\n      <td>False</td>\n      <td>True</td>\n      <td>True</td>\n      <td>application/vnd.google-apps.spreadsheet</td>\n      <td>[1_bpyZQJezH6HYGLj3f8uk-iOBYA-2vO_]</td>\n      <td>https://drive-thirdparty.googleusercontent.com...</td>\n      <td>False</td>\n      <td>{'displayName': 'scheduled-update@vn-commercia...</td>\n      <td>[{'displayName': 'scheduled-update@vn-commerci...</td>\n      <td>...</td>\n      <td>{'canChangeViewersCanCopyContent': True, 'canE...</td>\n      <td>1</td>\n      <td>True</td>\n      <td>NaN</td>\n      <td>{'securityUpdateEligible': False, 'securityUpd...</td>\n      <td>NaN</td>\n      <td>{'application/x-vnd.oasis.opendocument.spreads...</td>\n      <td>https://lh3.googleusercontent.com/drive-storag...</td>\n      <td>1024</td>\n      <td>2024-06-21T06:42:57.853Z</td>\n    </tr>\n  </tbody>\n</table>\n<p>4 rows × 37 columns</p>\n</div>"
     },
     "execution_count": 34,
     "metadata": {},
     "output_type": "execute_result"
    }
   ],
   "source": [
    "files"
   ],
   "metadata": {
    "collapsed": false,
    "ExecuteTime": {
     "end_time": "2024-06-21T06:43:12.885760Z",
     "start_time": "2024-06-21T06:43:12.865290Z"
    }
   },
   "id": "de14e9945d6afc8a",
   "execution_count": 34
  },
  {
   "cell_type": "markdown",
   "source": [
    "## Download"
   ],
   "metadata": {
    "collapsed": false
   },
   "id": "9f5cb60f0138ce67"
  },
  {
   "cell_type": "code",
   "outputs": [
    {
     "name": "stdout",
     "output_type": "stream",
     "text": [
      "Download 100.\n",
      "\u001B[32mDownloaded \u001B[39mdist/README.md\n"
     ]
    }
   ],
   "source": [
    "drive.Files.download(file_id=uploaded_file.get('id'), dest_directory='dist')"
   ],
   "metadata": {
    "collapsed": false,
    "ExecuteTime": {
     "end_time": "2024-06-21T06:43:15.478792Z",
     "start_time": "2024-06-21T06:43:12.886574Z"
    }
   },
   "id": "af1d7c4295050720",
   "execution_count": 35
  },
  {
   "cell_type": "code",
   "outputs": [
    {
     "name": "stdout",
     "output_type": "stream",
     "text": [
      "Download 100.\n",
      "\u001B[32mDownloaded \u001B[39mREADME.md\n"
     ]
    }
   ],
   "source": [
    "download_value = drive.Files.download(file_id=uploaded_file.get('id'), get_value=True)"
   ],
   "metadata": {
    "collapsed": false,
    "ExecuteTime": {
     "end_time": "2024-06-21T06:43:18.714714Z",
     "start_time": "2024-06-21T06:43:15.479674Z"
    }
   },
   "id": "bf65652479082131",
   "execution_count": 36
  },
  {
   "cell_type": "code",
   "outputs": [
    {
     "name": "stdout",
     "output_type": "stream",
     "text": [
      "b\"# simple-drive\\n[![Downloads](https://img.shields.io/pypi/dm/simple-drive)](https://pypi.org/project/simple-drive)\\n[![Pypi](https://img.shields.io/pypi/v/simple-drive?label=pip&logo=PyPI&logoColor=white)](https://pypi.org/project/simple-drive)\\n[![contributions welcome](https://img.shields.io/badge/contributions-welcome-brightgreen.svg)](https://github.com/tranngocminhhieu/simple-drive/issues)\\n[![MIT](https://img.shields.io/github/license/tranngocminhhieu/simple-drive)](https://github.com/tranngocminhhieu/simple-drive/blob/main/LICENSE)\\n\\n\\nUse Google Drive API in the simplest way\\n\\n## Installation\\n### Install from GitHub\\n```shell\\npip install --upgrade git+https://github.com/tranngocminhhieu/simple-drive.git\\n```\\n### Install from PyPI\\n```shell\\npip install --upgrade simple-drive\\n```\\n\\n## Usage\\n### Import\\n```python\\nfrom simple_drive import Drive, Auth, MimeTypes, Roles\\n```\\n\\n### Create auth info\\n#### From a service account\\nRead more: [How to create a Service Account](https://lucidgen.com/en/create-service-account-and-enable-google-cloud-api/)\\n```python\\n# Way 1\\nauth = Auth.from_service_account_file(file=YOUR_SERVICE_ACCOUNT_FILE)\\n# Way 2\\nauth = Auth.from_service_account_info(info=YOUR_SERVICE_ACCOUNT_INFO)\\n```\\n#### From local web server\\n```python\\nauth = Auth.local_web_server(client_secrets_file=YOUR_CLIENT_SECRETS_FILE)\\n```\\n\\n### Use Drive API\\n```python\\ndrive = Drive(auth=auth, verbose=True)\\n```\\n\\n#### Create a file or folder\\n```python\\n# mime_type = MimeTypes.FOLDER\\n# mime_type = MimeTypes.SHEETS\\n# ...\\ndrive.create(name, mime_type, dest_folder_id=None)\\n```\\n\\n#### Delete a file or folder\\n```python\\ndrive.delete(file_id)\\n```\\n\\n#### Move a file or folder\\n```python\\ndrive.move(file_id, dest_folder_id)\\n```\\n\\n#### Upload a file\\n```python\\ndrive.upload(file, dest_folder_id=None, rename=None)\\n```\\n\\n#### Copy a file\\nNot support folder yet.\\n```python\\ndrive.copy(file_id, name_prefix='Copy of ', name_suffix=None, dest_folder_id=None)\\n```\\n\\n#### Rename a file or folder\\n```python\\ndrive.rename(file_id, name)\\n```\\n\\n#### Get a file or folder info\\n```python\\ndrive.get_file_info(file_id, fields='*')\\n```\\n\\n#### Export the Google Workspace documents\\n```python\\ndrive.export(file_id, format='default', dest_directory=None, get_value=False)\\n```\\n\\n#### Download a file\\n```python\\ndrive.download(file_id, dest_directory=None, get_value=False)\\n```\\n\\n#### List files related to this account\\n```python\\ndrive.list_files(name_contains=None, owner_email=None, writer_email=None, reader_email=None, folder_id=None, trashed=None, mime_type_contains=None, shared_with_me=None, visibility=None, custom_filter=None)\\n```\\n\\n#### Get the account storage quota\\n```python\\ndrive.get_storage_quota()\\n```\\n\\n#### Empty trash\\n```python\\ndrive.empty_trash()\\n```\\n\\n#### Move a file to trash or restore a file from trash\\n```python\\ndrive.trash(file_id, restore=False)\\n```\\n\\n#### Create a shortcut\\n```python\\ndrive.create_shortcut(file_id, shortcut_name=None, dest_folder_id=None)\\n```\\n\\n#### Get permission of a file or folder\\n```python\\ndrive.list_permissions(file_id)\\n```\\n\\n#### Add permission to a file or folder\\nWe can provide `email` or `domain` or both.\\n```python\\n# role = Roles.VIEWER\\n# role = Roles.EDITOR\\n# role = Roles.COMMENTER\\ndrive.add_permission(file_id, role, email=None, domain=None)\\n```\\n\\n#### Remove a permission from a file or folder\\nWe can provide `permission_id` or `email` or `domain` or all.\\n```python\\ndrive.remove_permission(file_id, permission_id=None, email=None, domain=None)\\n```\\n\\n#### Transfer ownership of a file or folder to an email\\nSupport emails in organization.\\n```python\\ndrive.transfer_ownership(file_id, email)\\n```\\n\\n## Conclusion\\nI welcome your contributions!\"\n"
     ]
    }
   ],
   "source": [
    "print(download_value)"
   ],
   "metadata": {
    "collapsed": false,
    "ExecuteTime": {
     "end_time": "2024-06-21T06:43:18.720724Z",
     "start_time": "2024-06-21T06:43:18.716270Z"
    }
   },
   "id": "ba8d9f8be6d5a684",
   "execution_count": 37
  },
  {
   "cell_type": "markdown",
   "source": [
    "## Export"
   ],
   "metadata": {
    "collapsed": false
   },
   "id": "9a775fecaedf91c4"
  },
  {
   "cell_type": "code",
   "outputs": [
    {
     "name": "stdout",
     "output_type": "stream",
     "text": [
      "Download 100.\n",
      "\u001B[32mExported \u001B[39mdist/A sheets.xlsx\n"
     ]
    }
   ],
   "source": [
    "drive.Files.export(file_id=created_file.get('id'), dest_directory='dist')"
   ],
   "metadata": {
    "collapsed": false,
    "ExecuteTime": {
     "end_time": "2024-06-21T06:43:19.872168Z",
     "start_time": "2024-06-21T06:43:18.721864Z"
    }
   },
   "id": "74c50cf490e150d3",
   "execution_count": 38
  },
  {
   "cell_type": "code",
   "outputs": [
    {
     "name": "stdout",
     "output_type": "stream",
     "text": [
      "Download 100.\n",
      "\u001B[32mExported \u001B[39mA sheets.xlsx\n"
     ]
    }
   ],
   "source": [
    "export_value = drive.Files.export(file_id=created_file.get('id'), get_value=True)"
   ],
   "metadata": {
    "collapsed": false,
    "ExecuteTime": {
     "end_time": "2024-06-21T06:43:20.909901Z",
     "start_time": "2024-06-21T06:43:19.873354Z"
    }
   },
   "id": "87f03edf8093d985",
   "execution_count": 39
  },
  {
   "cell_type": "code",
   "outputs": [
    {
     "name": "stdout",
     "output_type": "stream",
     "text": [
      "b'PK\\x03\\x04\\x14\\x00\\x08\\x08\\x08\\x00j\\xbd\\xd4X\\x00\\x00\\x00\\x00\\x00\\x00\\x00\\x00\\x00\\x00\\x00\\x00\\x18\\x00\\x00\\x00xl/drawings/drawing1.xml\\x9d\\xd0]n\\xc20\\x0c\\x07\\xf0\\x13\\xec\\x0eU\\xdeiZ\\x18\\x13C\\x14^\\xd0N0\\x0e\\xe0%n\\x1b\\x91\\x8f\\xca\\x0e\\xa3\\xdc~\\xd1J6i{\\x01\\x1em\\xcb?\\xf9\\xef\\xcdnt\\xb6\\xf8Db\\x13|#\\xea\\xb2\\x12\\x05z\\x15\\xb4\\xf1]#\\x0e\\xefo\\xb3\\x95(8\\x82\\xd7`\\x83\\xc7F\\\\\\x90\\xc5n\\xfb\\xb4\\x195\\xad\\xcf\\xbc\\xa7\"\\xed{^\\xa7\\xb2\\x11}\\x8c\\xc3ZJV=:\\xe02\\x0c\\xe8\\xd3\\xb4\\r\\xe4 \\xa6\\x92:\\xa9\\t\\xceIvV\\xce\\xab\\xeaE\\xf2@\\x08\\x9a{\\xc4\\xb8\\x9f&\\xe2\\xea\\xc1\\x03\\x9a\\x03\\xe3\\xf3\\xfeM\\xd7\\x84\\xb65\\n\\xf7A\\x9d\\x1c\\xfa8!\\x84\\x16b\\xfa\\x05\\xf7f\\xe0\\xac\\xa9\\x07\\xaeQ=P\\xfc\\x01\\xc6\\x7f\\x823\\x8a\\x02\\x876\\x96*\\xb8\\xeb)\\xd9HB\\xfd<\\t8\\xfe\\x1a\\xf5\\xdd\\xc8R\\xbe\\xca\\xd5_\\xc8\\xdd\\x14\\xc7\\x01\\x1dO\\xc3,\\xb9Cz\\xc8\\x87\\xb1&^\\xbe\\x93eFw\\xee\\x81\\xb7h\\x03\\x1d\\x81\\xcb\\xc8\\xb88\\xf8\\xe3\\xdd\\xb1*\\xc96\\xb5(+l\\xb1^\\xde\\xad\\xcc\\xb3\"\\xb7_PK\\x07\\x08\\x07bi\\x83\\x05\\x01\\x00\\x00\\x07\\x03\\x00\\x00PK\\x03\\x04\\x14\\x00\\x08\\x08\\x08\\x00j\\xbd\\xd4X\\x00\\x00\\x00\\x00\\x00\\x00\\x00\\x00\\x00\\x00\\x00\\x00\\x18\\x00\\x00\\x00xl/worksheets/sheet1.xml\\x9d\\x93Kn\\xc3 \\x10@O\\xd0;X\\xecc\\xe26\\xe9\\xc7\\xb2]\\xa9\\x8d\\xaaf\\x17E\\xfd\\xac)\\x1e\\xc7(\\xc0X\\x80c\\xe7\\xf6\\xc5Nb%\\xcd\\xc6\\xean\\x18\\x987O0$\\xcf\\xad\\x92\\xc1\\x0e\\x8c\\x15\\xa8S\\x12\\x85S\\x12\\x80\\xe6\\x98\\x0b\\xbdI\\xc9\\xe7\\xc7\\xdb\\xe4\\x91\\x04\\xd61\\x9d3\\x89\\x1aR\\xb2\\x07K\\x9e\\xb3\\x9b\\xa4A\\xb3\\xb5%\\x80\\x0b<@\\xdb\\x94\\x94\\xceU1\\xa5\\x96\\x97\\xa0\\x98\\r\\xb1\\x02\\xedw\\n4\\x8a9\\xbf4\\x1bj+\\x03,\\xef\\x8b\\x94\\xa4\\xb7\\xd3\\xe9=ULhr \\xc4f\\x0c\\x03\\x8bBpX \\xaf\\x15hw\\x80\\x18\\x90\\xccy}[\\x8a\\xca\\x9eh\\xaa\\xbd\\xc2)\\xc1\\rZ,\\\\\\xc8Q\\x1dI\\xde\\x80Sh9\\xf4B\\x8f\\x17B\\x8a\\x8f1R\\xccl\\xebj\\xe2\\x91\\x95\\xb7\\xf8\\x11R\\xb8}\\xef5`v)\\xa9\\x8d\\x8e\\x8f\\x8c\\xc9\\xa0\\xd1\\xd5\\xc4\\xbe\\x7f\\xbcS\\xf2t\\xb8\\x8df\\xe3\\xbc\\xaf.\\xf3\\x89>]\\xd8\\xb7\\xd1\\xfc\\x7f\\xa4hJ\\xa3\\xe8\\x0fj\\xc6\\xae\\xefb\\xbc\\x16\\xe3\\x03I\\x8d\\xc3\\x0c/r\\x1c\\x91,\\xe9\\x91+\\x93%X;)4\\xacL`k\\xe5/\\x7f\\xff\\x02\\x12\\x9b\\x94\\xf8\\xc1=&\\xd6bS\\xba.A\\xb3\\x84\\x0eu}\\xf0%\\xa0\\xb1gq\\xd0\\x8d\\xf1\\x0f\\xe2\\xb6[,\\xf3\\x8b\\xa2\\xf3\\xb3o\\xfd\\x83\\xfb\\x9e\\xbc\\xb6\\x0e\\xd5;\\x1cZD$\\xc8\\xa1`\\xb5t\\xaf(\\xbfE\\xeeJ\\x9f\\xbb\\r\\xef\\xef\\x86\\xfc\\x1a\\x9b\\xe1\\xf0<|\\x98w\\xf8\\x9e\\xb8`\\x8e\\xf987\\xac\\xf1_-0\\xb1\\xf0\\xdd\\xcd2\\x8fz\\x81\\xe1we\\xbfPK\\x07\\x08\\x0f!\\x1c\\x9d\\x81\\x01\\x00\\x00\\xa1\\x03\\x00\\x00PK\\x03\\x04\\x14\\x00\\x08\\x08\\x08\\x00j\\xbd\\xd4X\\x00\\x00\\x00\\x00\\x00\\x00\\x00\\x00\\x00\\x00\\x00\\x00#\\x00\\x00\\x00xl/worksheets/_rels/sheet1.xml.rels\\x8d\\xcfK\\n\\xc20\\x10\\x06\\xe0\\x13x\\x870{\\x93\\xd6\\x85\\x884\\xedF\\x84n\\xa5\\x1e`H\\xa6\\x0fl\\x1e$\\xf1\\xd1\\xdb\\x9b\\x8d\\xa2\\xe0\\xc2\\xe5\\xcc\\xcf|\\xc3_5\\x0f3\\xb3\\x1b\\x8589+\\xa1\\xe4\\x050\\xb2\\xca\\xe9\\xc9\\x0e\\x12\\xce\\xddq\\xbd\\x03\\x16\\x13Z\\x8d\\xb3\\xb3$a\\xa1\\x08M\\xbd\\xaaN4c\\xca7q\\x9c|d\\x19\\xb1Q\\xc2\\x98\\x92\\xdf\\x0b\\x11\\xd5H\\x06#w\\x9elNz\\x17\\x0c\\xa6<\\x86AxT\\x17\\x1cHl\\x8ab+\\xc2\\xa7\\x01\\xf5\\x97\\xc9Z-!\\xb4\\xba\\x04\\xd6-\\x9e\\xfe\\xb1]\\xdfO\\x8a\\x0eN]\\r\\xd9\\xf4\\xe3\\x85\\xd0\\x01\\xef\\xb9X&1\\x0c\\x94$p\\xfe\\xda\\xbd\\xc3\\x92g\\x16D]\\x89\\xaf\\x8a\\xf5\\x13PK\\x07\\x08\\xad\\xa8\\xebM\\xb3\\x00\\x00\\x00*\\x01\\x00\\x00PK\\x03\\x04\\x14\\x00\\x08\\x08\\x08\\x00j\\xbd\\xd4X\\x00\\x00\\x00\\x00\\x00\\x00\\x00\\x00\\x00\\x00\\x00\\x00\\x13\\x00\\x00\\x00xl/theme/theme1.xml\\xcdW\\xdbn\\xdc \\x10\\xfd\\x82\\xfe\\x03\\xe2\\xbd\\xc1\\xd7\\xbd)\\xbbQ\\xb2\\x9bU\\x1fZU\\xea\\xb6\\xea3\\xb1\\xf1\\xa5\\xc1\\xd8\\x026i\\xfe\\xbe\\x18{m|K\\xa2f#e_\\x02\\xe33\\x8733\\xc0\\x90\\xcb\\xab\\xbf\\x19\\x05\\x0f\\x84\\x8b4gkh_X\\x10\\x10\\x16\\xe4a\\xca\\xe25\\xfc\\xf5s\\xffy\\x01\\x81\\x90\\x98\\x85\\x98\\xe6\\x8c\\xac\\xe1\\x13\\x11\\xf0j\\xf3\\xe9\\x12\\xafdB2\\x02\\x94;\\x13+\\xbc\\x86\\x89\\x94\\xc5\\n!\\x11(3\\x16\\x17yA\\x98\\xfa\\x16\\xe5<\\xc3RMy\\x8cB\\x8e\\x1f\\x15mF\\x91cY3\\x94\\xe1\\x94\\xc1\\xda\\x9f\\xbf\\xc6?\\x8f\\xa24 \\xbb<8f\\x84\\xc9\\x8a\\x84\\x13\\x8a\\xa5\\x92.\\x92\\xb4\\x10\\x100\\x9c)\\x8d\\x87\\x84\\x10)\\xe0\\xe6$\\xf2\\x96\\x92\\xd2C\\x94\\x86\\x80\\xf2C\\xa0\\x95\\x0f\\xb0\\xe1\\xbd]\\xfe\\x11<\\xbe\\xdbR\\x0e\\x1e0]CK\\xff \\xda\\\\\\xa2\\x06@\\xe5\\x10\\xb7\\xd7\\xbf\\x1aW\\x03\\xc2{\\xe7%>\\xa7\\xe2\\x1b\\xe2z|\\x1a\\x80\\x83@E1\\\\\\xdbs\\x16\\xfe\\xde\\xab\\xb1\\x06\\xa8\\x1a\\x0e\\xb9o\\xaf=\\xd7\\xf5;x\\x83\\xdf\\x1dj\\xb9\\xb9\\xd9Z]~\\xb7\\xc5{\\x03\\xbc\\xeb]/|\\xb7\\x83\\xf7Z\\xbc?\\x12\\xeblg\\xd9\\x1d\\xbc\\xdf\\xe2g\\xc3xg7\\xbb\\xed\\xac\\x83\\xd7\\xa0\\x84\\xa6\\xec~\\x80\\xb6m\\xdf\\xdfnkt\\x03\\x89r\\xfa\\xe5ex\\x8bB\\xc6\\xce\\xa9\\xfc\\x99\\x9c\\xdaG\\x19\\xfe\\x93\\xf3\\xbd\\x02\\xe8\\xe2\\xaa\\xed\\xc9\\x80|*H\\x84\\x03\\x85\\xbb\\xe6)\\xa6%=^\\x11<n\\x0f\\xc4\\x98\\x1d\\xf5\\x88\\xb3\\x94\\xbd\\xd3*-12\\x03\\xd5ag\\xdd\\xa8\\xbf\\xeb#\\xa9\\xa3\\x8eRJ\\x0f\\xf2\\x89\\x92\\xafBK\\x129M\\xc3\\xbd2\\xea\\x89vj\\x92\\\\$jX/\\xd7\\xc1\\xc5\\x1c\\xeb1\\xe0\\xb9\\xfc\\x9d\\xca\\xe4\\x90\\xe0B-c\\xeb\\x15bQS\\xc7\\x02\\x14\\xb9P\\x87\\tNr\\xeb\\xa4\\x1c\\xb3oyx*\\xeb\\xe9\\xdc)\\x07,[\\xbb\\xe57v\\x95BYYg\\xf3\\xf6\\x906\\xf4z\\x16\\x0bS\\x80\\xafI_/\\xc2X\\xac+\\xc2\\x1d\\x111w_\\'\\xc2\\xb6\\xce\\xa5b9\\xa2ba?\\xa7\\x02\\x19UQ\\x07\\x05\\xe0\\xb2k\\xf8^\\xa5\\x08\\x88\\x00S\\x12\\x96u\\xaa\\xfcO\\xd5={\\xa5\\xa7\\x92\\xd9\\r\\xdb\\x19\\to\\xe9\\x9d\\xad\\xd2\\x1d\\x11\\xc6v\\xeb\\x8a0\\xb6a\\x82C\\xd27\\x9f\\xb9\\xd6\\xcb\\xe5x\\xa9\\x9dQ\\x19\\xf3\\xc5{\\xd4\\x1a\\r\\xef\\x06\\xca\\xba3\\xf0\\xa8\\xce\\x9c\\xeb+\\x9a\\x00\\x17k\\x18\\xa9\\xebL\\r\\xb3B\\xf1\\t\\x16C\\x80i\\xac\\x1e\\'\\x81\\xac\\x13\\xfd?7K\\xc1\\x85\\xdca\\x91T0\\xfd\\xa9\\x8a?K%\\xe1\\x80\\xa6\\x99\\xda\\xebf\\x19(k\\xb5\\xd9\\xce\\xdc\\xfa\\xb8\\xe2\\x96\\xd6\\xc7\\xcb\\x1c\\xea\\x17\\x99D\\x11\\t\\xe4\\x84\\xa5\\x9d\\xaao\\x15\\xc9\\xe8\\xd77\\x82\\xcbI~T\\xa2\\x0fI\\xf8\\x08\\xee\\xe8\\x91\\xff\\xc0*Q\\xfe\\xdc.\\x13\\x18\\xa6B6\\xd9\\x0cSnl\\xee6\\x8b\\xbd\\xeb\\xaa>\\x8a#/<\\xfd\\x80\\xa1E\\x82\\xeb\\x8eb^\\xe6\\x15\\\\\\x8f\\x1b9F\\x1cZi?*4\\x96\\xc2\\xbbx\\x7f\\x8e\\xae\\xfb\\xb2S\\xef\\xd2\\x9ch \\xf3\\xc9[\\xec\\xfd\\x9a\\xbc\\xa1\\xca\\x1dW\\xe5\\x8f\\xdeu\\xcb\\x85\\xf5|\\x97x{C0\\xa4-\\xc6\\xa5\\xb9\\xe3\\xd2\\xa6z\\xc7\\x19\\x1f\\x04\\xc6r\\xb3\\x89\\xbc9\\x93\\xd5|c7\\xe8\\xefZd\\xbc+\\xf5\\xac\\xf7O\\xdb\\xc9\\xb2\\xf9\\x07PK\\x07\\x08e\\xa3\\x81a(\\x03\\x00\\x00\\xad\\x0e\\x00\\x00PK\\x03\\x04\\x14\\x00\\x08\\x08\\x08\\x00j\\xbd\\xd4X\\x00\\x00\\x00\\x00\\x00\\x00\\x00\\x00\\x00\\x00\\x00\\x00\\x14\\x00\\x00\\x00xl/sharedStrings.xml\\r\\xcbA\\x0e\\xc2 \\x10@\\xd1\\x13x\\x072{\\x0b\\xba0\\xc6\\x94v\\xd7\\x13\\xe8\\x01&e,$0\\x10fb\\xf4\\xf6\\xb2\\xfcy\\xf9\\xf3\\xfa-\\xd9|\\xa8K\\xaa\\xec\\xe1290\\xc4{\\r\\x89\\x0f\\x0f\\xaf\\xe7v\\xbe\\x83\\x11E\\x0e\\x98+\\x93\\x87\\x1f\\t\\xac\\xcbi\\x16Q3V\\x16\\x0fQ\\xb5=\\xac\\x95=RA\\x99j#\\x1e\\xf2\\xae\\xbd\\xa0\\x8e\\xec\\x87\\x95\\xd6\\t\\x83D\"-\\xd9^\\x9d\\xbb\\xd9\\x82\\x89\\xc1.\\x7fPK\\x07\\x08\\xaf\\xbd\\x82tt\\x00\\x00\\x00\\x80\\x00\\x00\\x00PK\\x03\\x04\\x14\\x00\\x08\\x08\\x08\\x00j\\xbd\\xd4X\\x00\\x00\\x00\\x00\\x00\\x00\\x00\\x00\\x00\\x00\\x00\\x00\\r\\x00\\x00\\x00xl/styles.xml\\xa5SMo\\xdc \\x10\\xfd\\x05\\xfd\\x0f\\x88{\\x16\\'\\x8a\\xaa&\\xb2\\x1d\\xe5\\xe2*\\x97\\xf6\\x90\\xad\\xd4+\\xc6\\xb0F\\x01\\xc6\\x026\\xb5\\xfb\\xeb;\\x80\\xf7K\\x1b\\xa9\\x95\\xea\\x8b\\x997\\xc3\\x9by3C\\xfd4[C\\xde\\xa5\\x0f\\x1a\\\\Co7\\x15%\\xd2\\t\\x18\\xb4\\xdb5\\xf4\\xc7\\xb6\\xbb\\xf9BI\\x88\\xdc\\r\\xdc\\x80\\x93\\r]d\\xa0O\\xed\\xa7:\\xc4\\xc5\\xc8\\xd7Q\\xcaH\\x90\\xc1\\x85\\x86\\x8e1N\\x8f\\x8c\\x051J\\xcb\\xc3\\x06&\\xe9\\xd0\\xa3\\xc0[\\x1e\\xd1\\xf4;\\x16&/\\xf9\\x10\\xd2%k\\xd8]U}f\\x96kG\\x0b\\xc3\\xe3|{\\xcf\\xc5\\x15\\x8f\\xd5\\xc2C\\x00\\x157\\x02,\\x03\\xa5\\xb4\\x90\\xd7L\\x0f\\xec\\x81qq`\\xb2\\xd74\\x1f\\x94c\\xb9\\x7f\\xdbO7H;\\xf1\\xa8{mt\\\\rU\\xb4\\xad\\x15\\xb8\\x18\\x88\\x80\\xbd\\x8b\\xd8\\x95\\x15h\\xeb\\xf0\\x9b\\xbcs\\x83H\\x85\\x8dbm-\\xc0\\x80\\'~\\xd77\\xb4\\xeb\\xaa\\xfc%\\xd8q+K\\xe0\\xb3\\xd7\\xdc$(\\xd7\\xb1\\x82V;\\xf0\\td\\x855\\xff\\x02\\xe6\\xd0\\xc6\\x1c\\x93\\xde\\xd1\\x02\\xb45V\\x17\\xa5w\\x1d\\x1ad=o\\x97\\tg\\xe1p\"\\x85&\\xc7\\xfd%\\xda\\xe8\\xdd\\x18\\xbfz\\xbe\\x9c]\\xc9?\\xcc\\xdc\\x83\\x1fp\\x07\\xce\\x05\\x17(\\x85\\xaeNT+\\x8dyMs\\xff\\xa9.BgEJ\\xcc\\xcb\\xd0P\\\\\\xa0Dz8\\xa2\\xb2\\xf5\\xe8\\xf6\\xb6\\xb3\\x07\\x83O\\x93Y\\x9e\\xb1$ge\\xa1)P\\x07\\xc5Jy\\xcf\\xd3\\x95\\xe4\\xff\\x9fwV\\xffX@[\\xf3\\x83\\x93\\xa4]\\xc3\\xf7\\xf0=\\xa5\\xca\\x97\\xc3\\xe8\\xb5{\\xdbB\\xa7c\\xb6\\xf1\\xfdD-\\xd2h{\\x88\\x11,%\\xbf<\\x9f\\xb6r\\xce\\xee\\xa4eV\\xab\\xa0\\xa3\\x96\\xac\\xecB\\xce\\x11=U\\x99\\x16\\xa9\\xa1\\xdf\\xd2\\xd2\\x1aJ\\xfa\\xbd6Q\\xbb\\xe2\\xbb\\xe8\\x10r\\x0e\\xf3\\xa99\\xc5{z\\xa2\\xed\\x1fPK\\x07\\x08\\xf8\\xbe>\\x83\\xbe\\x01\\x00\\x00\\xe7\\x03\\x00\\x00PK\\x03\\x04\\x14\\x00\\x08\\x08\\x08\\x00j\\xbd\\xd4X\\x00\\x00\\x00\\x00\\x00\\x00\\x00\\x00\\x00\\x00\\x00\\x00\\x0f\\x00\\x00\\x00xl/workbook.xml\\x9d\\x92Kn\\xc20\\x10\\x86O\\xd0;D\\xde\\x83cD+\\x88H\\xd8T\\x95\\xd8T\\x95\\xda\\x1e\\xc0\\xd8\\x13b\\xe1Gd\\x9b4\\xdc\\xbe\\x93\\x90D\\xa2l\\xa2\\xae\\xfc\\x9co>\\xd9\\xffn\\xdf\\x1a\\x9d4\\xe0\\x83r6\\'l\\x99\\x92\\x04\\xacpR\\xd9SN\\xbe\\xbf\\xde\\x16\\x1b\\x92\\x84\\xc8\\xad\\xe4\\xdaY\\xc8\\xc9\\x15\\x02\\xd9\\x17O\\xbb\\x1f\\xe7\\xcfG\\xe7\\xce\\t\\xd6\\xdb\\x90\\x93*\\xc6:\\xa34\\x88\\n\\x0c\\x0fKW\\x83\\xc5\\x93\\xd2y\\xc3#.\\xfd\\x89\\x86\\xda\\x03\\x97\\xa1\\x02\\x88F\\xd3U\\x9a\\xbeP\\xc3\\x95%7B\\xe6\\xe70\\\\Y*\\x01\\xafN\\\\\\x0c\\xd8x\\x83x\\xd0<\\xa2}\\xa8T\\x1dF\\x9ai\\x1fpF\\t\\xef\\x82+\\xe3R83\\x90\\xd0@Ph\\x05\\xf4B\\x9b;!#\\xe6\\x18\\x19\\xee\\xcf\\x97z\\x81\\xc8\\x1a-\\x8eJ\\xabx\\xed\\xbd&L\\x93\\x93\\x8b\\xb7\\xd9\\xc0XL\\x1a]M\\x86\\xfd\\xb3\\xc6\\xe8\\xf1r\\xcb\\xd6\\xf3\\xbc\\x1f\\x1esK\\xb7w\\xf6-{\\xfe\\x1f\\x89\\xa5\\x94\\xb1?\\xa85\\x7f|\\x8b\\xf9Z\\\\L$3\\x0f3\\xfd\\xc8\\x10\\x91b\\x8a\\xdb\\x87\\xa7\\xc5\\xae\\xe7\\x87a\\xec\\xd2\\x191\\x98\\x8d\\n\\xea\\xa8\\x81$\\x96\\x1b\\\\~vg\\x0c\\xb3\\xdb\\x8d\\x07\\x89\\xd1&\\x89\\xcf\\x14N\\xfcA\\xae\\tR\\xe8\\x88\\x91P*\\x0b\\xf2\\x1d\\xeb\\x02\\xee\\x0b\\xaeE\\xdf\\x86\\x8eM\\x8b_PK\\x07\\x08M\\xca\\xa2\\xadG\\x01\\x00\\x00&\\x03\\x00\\x00PK\\x03\\x04\\x14\\x00\\x08\\x08\\x08\\x00j\\xbd\\xd4X\\x00\\x00\\x00\\x00\\x00\\x00\\x00\\x00\\x00\\x00\\x00\\x00\\x1a\\x00\\x00\\x00xl/_rels/workbook.xml.rels\\xad\\x92Aj\\xc30\\x10EO\\xd0;\\x88\\xd9\\xd7\\xb2\\x93RJ\\x89\\x9cM(d\\xdb\\xa6\\x07\\x10\\xd2\\xd82\\xb1%!M\\xda\\xfa\\xf6\\x9d6\\xe0:\\x10B\\x17^\\x89\\xff\\xc5\\xfc\\xff\\xd0h\\xb3\\xfd\\x1az\\xf1\\x81)w\\xc1+\\xa8\\x8a\\x12\\x04z\\x13l\\xe7[\\x05\\xef\\x87\\x97\\xfb\\'\\x10\\x99\\xb4\\xb7\\xba\\x0f\\x1e\\x15\\x8c\\x98a[\\xdfm^\\xb1\\xd7\\xc43\\xd9u1\\x0b\\x0e\\xf1Y\\x81#\\x8a\\xcfRf\\xe3p\\xd0\\xb9\\x08\\x11=\\xdf4!\\r\\x9aX\\xa6VFm\\x8e\\xbaE\\xb9*\\xcbG\\x99\\xe6\\x19P_d\\x8a\\xbdU\\x90\\xf6\\xb6\\x02q\\x18#\\xfe\\';4Mgp\\x17\\xcci@OW*$\\xf1,r\\xa0N-\\x92\\x82_y6\\xab\\x82\\xc3@^gX-\\xc9\\x90i\\xec\\xf9\\r\\'\\x88\\xb3\\xbeU\\xbf^\\xb4\\xde\\xe9\\x84\\xf6\\x8d\\x12/xN1\\xb7o\\xc1<,\\t\\xf3\\x19\\xd21;D\\xfa\\x03\\x99\\xac\\x1fT>\\xa6\\xc5\\xc8\\x8b\\x1fW\\x7f\\x03PK\\x07\\x08\\x96\\x19\\xc1S\\xea\\x00\\x00\\x00\\xb9\\x02\\x00\\x00PK\\x03\\x04\\x14\\x00\\x08\\x08\\x08\\x00j\\xbd\\xd4X\\x00\\x00\\x00\\x00\\x00\\x00\\x00\\x00\\x00\\x00\\x00\\x00\\x0b\\x00\\x00\\x00_rels/.rels\\x8d\\xcfA\\x0e\\x820\\x10\\x05\\xd0\\x13x\\x87f\\xf6Rpa\\x8c\\xa1\\xb01&l\\r\\x1e\\xa0\\xb6C!@\\xa7i\\xab\\xc2\\xed\\xedR\\x8d\\x0b\\x97\\x93\\xf9\\xf3~\\xa6\\xac\\x97yb\\x0f\\xf4a +\\xa0\\xc8r`h\\x15\\xe9\\xc1\\x1a\\x01\\xd7\\xf6\\xbc=\\x00\\x0bQZ-\\'\\xb2(`\\xc5\\x00u\\xb5)/8\\xc9\\x98nB?\\xb8\\xc0\\x12b\\x83\\x80>Fw\\xe4<\\xa8\\x1eg\\x192rh\\xd3\\xa6#?\\xcb\\x98Fo\\xb8\\x93j\\x94\\x06\\xf9.\\xcf\\xf7\\xdc\\xbf\\x1bP}\\x98\\xac\\xd1\\x02|\\xa3\\x0b`\\xed\\xea\\xf0\\x1f\\x9b\\xbanPx\"u\\x9f\\xd1\\xc6\\x1f\\x15_\\x89$Ko0\\nX&\\xfe$?\\xde\\x88\\xc6,\\xa1\\xc0\\xab\\x92\\x7f<X\\xbd\\x00PK\\x07\\x08\\xa4o\\xa1 \\xb2\\x00\\x00\\x00(\\x01\\x00\\x00PK\\x03\\x04\\x14\\x00\\x08\\x08\\x08\\x00j\\xbd\\xd4X\\x00\\x00\\x00\\x00\\x00\\x00\\x00\\x00\\x00\\x00\\x00\\x00\\x13\\x00\\x00\\x00[Content_Types].xml\\xb5S\\xcbN\\xc30\\x10\\xfc\\x02\\xfe!\\xf2\\x155n9 \\x84\\x9a\\xf6\\xc0\\xe3\\x08H\\x94\\x0fX\\xecMc\\xd5/y\\xdd\\xd7\\xdf\\xb3IZ$\\xaa \\x81\\xd4^\\xbc\\xb6\\xc7;3\\xeb\\xb5\\xa7\\xf3\\x9d\\xb3\\xc5\\x06\\x13\\x99\\xe0+1)\\xc7\\xa2@\\xaf\\x826~Y\\x89\\x8f\\xc5\\xf3\\xe8N\\x14\\x94\\xc1k\\xb0\\xc1c%\\xf6Hb>\\xbb\\x9a.\\xf6\\x11\\xa9\\xe0dO\\x95hr\\x8e\\xf7R\\x92j\\xd0\\x01\\x95!\\xa2g\\xa4\\x0e\\xc9A\\xe6eZ\\xca\\x08j\\x05K\\x947\\xe3\\xf1\\xadT\\xc1g\\xf4y\\x94[\\x0e1\\x9b>b\\rk\\x9b\\x8b\\x87~\\xbf\\xa5\\xae\\x04\\xc4h\\x8d\\x82\\xcc\\xbe$\\x93\\x89\\xe2i\\xc7`o\\xb3]\\xcb?\\xe4m\\xbc>13:\\x18)\\x13\\xda\\xee\\x0c5&\\xd2\\xf5\\xa9\\x00\\xa3\\xd4*\\xbc\\xf2\\xcd$\\xa3\\xf1_\\x12\\xa1\\xae\\x8dB\\x1d\\xd4\\xdaqJI1!hj\\x10\\xb3\\xb3\\xe56\\xa4U7\\xef5\\xdf \\xe5\\x17pL*wV~\\x83$\\xbb0)\\x0f\\x95\\x9e\\xdf\\x075\\x90P\\xbf\\xe7\\xc4\\x8d\\xa6!/?\\x0e\\x9c\\xd3\\x87N\\xb0e\\xce!\\xcd\\x03D\\xc7\\xc9%\\xeb\\xcf{\\x8b\\xc3\\x85w\\xc89\\x953\\x7f\\x0b\\x1c\\x92\\xea\\x80~\\xbch\\xab9\\x96\\x0e\\x8c\\xff\\xed\\xcd}\\x86\\xb0:\\xea\\xcb\\xeeg\\xcf\\xbe\\x00PK\\x07\\x08m\\x88\\xb4P5\\x01\\x00\\x00\\x19\\x04\\x00\\x00PK\\x01\\x02\\x14\\x00\\x14\\x00\\x08\\x08\\x08\\x00j\\xbd\\xd4X\\x07bi\\x83\\x05\\x01\\x00\\x00\\x07\\x03\\x00\\x00\\x18\\x00\\x00\\x00\\x00\\x00\\x00\\x00\\x00\\x00\\x00\\x00\\x00\\x00\\x00\\x00\\x00\\x00xl/drawings/drawing1.xmlPK\\x01\\x02\\x14\\x00\\x14\\x00\\x08\\x08\\x08\\x00j\\xbd\\xd4X\\x0f!\\x1c\\x9d\\x81\\x01\\x00\\x00\\xa1\\x03\\x00\\x00\\x18\\x00\\x00\\x00\\x00\\x00\\x00\\x00\\x00\\x00\\x00\\x00\\x00\\x00K\\x01\\x00\\x00xl/worksheets/sheet1.xmlPK\\x01\\x02\\x14\\x00\\x14\\x00\\x08\\x08\\x08\\x00j\\xbd\\xd4X\\xad\\xa8\\xebM\\xb3\\x00\\x00\\x00*\\x01\\x00\\x00#\\x00\\x00\\x00\\x00\\x00\\x00\\x00\\x00\\x00\\x00\\x00\\x00\\x00\\x12\\x03\\x00\\x00xl/worksheets/_rels/sheet1.xml.relsPK\\x01\\x02\\x14\\x00\\x14\\x00\\x08\\x08\\x08\\x00j\\xbd\\xd4Xe\\xa3\\x81a(\\x03\\x00\\x00\\xad\\x0e\\x00\\x00\\x13\\x00\\x00\\x00\\x00\\x00\\x00\\x00\\x00\\x00\\x00\\x00\\x00\\x00\\x16\\x04\\x00\\x00xl/theme/theme1.xmlPK\\x01\\x02\\x14\\x00\\x14\\x00\\x08\\x08\\x08\\x00j\\xbd\\xd4X\\xaf\\xbd\\x82tt\\x00\\x00\\x00\\x80\\x00\\x00\\x00\\x14\\x00\\x00\\x00\\x00\\x00\\x00\\x00\\x00\\x00\\x00\\x00\\x00\\x00\\x7f\\x07\\x00\\x00xl/sharedStrings.xmlPK\\x01\\x02\\x14\\x00\\x14\\x00\\x08\\x08\\x08\\x00j\\xbd\\xd4X\\xf8\\xbe>\\x83\\xbe\\x01\\x00\\x00\\xe7\\x03\\x00\\x00\\r\\x00\\x00\\x00\\x00\\x00\\x00\\x00\\x00\\x00\\x00\\x00\\x00\\x005\\x08\\x00\\x00xl/styles.xmlPK\\x01\\x02\\x14\\x00\\x14\\x00\\x08\\x08\\x08\\x00j\\xbd\\xd4XM\\xca\\xa2\\xadG\\x01\\x00\\x00&\\x03\\x00\\x00\\x0f\\x00\\x00\\x00\\x00\\x00\\x00\\x00\\x00\\x00\\x00\\x00\\x00\\x00.\\n\\x00\\x00xl/workbook.xmlPK\\x01\\x02\\x14\\x00\\x14\\x00\\x08\\x08\\x08\\x00j\\xbd\\xd4X\\x96\\x19\\xc1S\\xea\\x00\\x00\\x00\\xb9\\x02\\x00\\x00\\x1a\\x00\\x00\\x00\\x00\\x00\\x00\\x00\\x00\\x00\\x00\\x00\\x00\\x00\\xb2\\x0b\\x00\\x00xl/_rels/workbook.xml.relsPK\\x01\\x02\\x14\\x00\\x14\\x00\\x08\\x08\\x08\\x00j\\xbd\\xd4X\\xa4o\\xa1 \\xb2\\x00\\x00\\x00(\\x01\\x00\\x00\\x0b\\x00\\x00\\x00\\x00\\x00\\x00\\x00\\x00\\x00\\x00\\x00\\x00\\x00\\xe4\\x0c\\x00\\x00_rels/.relsPK\\x01\\x02\\x14\\x00\\x14\\x00\\x08\\x08\\x08\\x00j\\xbd\\xd4Xm\\x88\\xb4P5\\x01\\x00\\x00\\x19\\x04\\x00\\x00\\x13\\x00\\x00\\x00\\x00\\x00\\x00\\x00\\x00\\x00\\x00\\x00\\x00\\x00\\xcf\\r\\x00\\x00[Content_Types].xmlPK\\x05\\x06\\x00\\x00\\x00\\x00\\n\\x00\\n\\x00\\x9a\\x02\\x00\\x00E\\x0f\\x00\\x00\\x00\\x00'\n"
     ]
    }
   ],
   "source": [
    "print(export_value)"
   ],
   "metadata": {
    "collapsed": false,
    "ExecuteTime": {
     "end_time": "2024-06-21T06:43:20.913814Z",
     "start_time": "2024-06-21T06:43:20.911436Z"
    }
   },
   "id": "75561225a671eee0",
   "execution_count": 40
  },
  {
   "cell_type": "markdown",
   "source": [
    "## Empty trash"
   ],
   "metadata": {
    "collapsed": false
   },
   "id": "6cde11bf8f57cd85"
  },
  {
   "cell_type": "code",
   "outputs": [
    {
     "name": "stdout",
     "output_type": "stream",
     "text": [
      "\u001B[33mAlready empty trash\u001B[39m\n"
     ]
    }
   ],
   "source": [
    "drive.Files.empty_trash()"
   ],
   "metadata": {
    "collapsed": false,
    "ExecuteTime": {
     "end_time": "2024-06-21T06:43:21.400842Z",
     "start_time": "2024-06-21T06:43:20.914853Z"
    }
   },
   "id": "4968b82b151e495",
   "execution_count": 41
  },
  {
   "cell_type": "markdown",
   "source": [
    "## Trash"
   ],
   "metadata": {
    "collapsed": false
   },
   "id": "7ca6b7c37cc54e9b"
  },
  {
   "cell_type": "code",
   "outputs": [
    {
     "name": "stdout",
     "output_type": "stream",
     "text": [
      "\u001B[33mMoved \u001B[39m1Bc-R3dJl8ptSc9HpGXYlolQ_-KEUqwoz\u001B[33m to trash\u001B[39m\n"
     ]
    }
   ],
   "source": [
    "trashed_file = drive.Files.trash(file_id=uploaded_file.get('id'))"
   ],
   "metadata": {
    "collapsed": false,
    "ExecuteTime": {
     "end_time": "2024-06-21T06:43:22.020625Z",
     "start_time": "2024-06-21T06:43:21.401781Z"
    }
   },
   "id": "5c80a2d64f9110db",
   "execution_count": 42
  },
  {
   "cell_type": "code",
   "outputs": [
    {
     "name": "stdout",
     "output_type": "stream",
     "text": [
      "{'id': '1Bc-R3dJl8ptSc9HpGXYlolQ_-KEUqwoz', 'name': 'README.md', 'mimeType': 'text/markdown', 'parents': ['1At9XME9BsGWeXhrDtrxyATZZq_g52uZk'], 'webViewLink': 'https://drive.google.com/file/d/1Bc-R3dJl8ptSc9HpGXYlolQ_-KEUqwoz/view?usp=drivesdk', 'owners': [{'kind': 'drive#user', 'displayName': 'scheduled-update@vn-commercial-analytics.iam.gserviceaccount.com', 'photoLink': 'https://lh3.googleusercontent.com/a/ACg8ocLLRXuvqntf_wWYDF337mxpjHbjG26Fp3qvbMc0Y2DCj7gXaQ=s64', 'me': True, 'permissionId': '16253811486374742618', 'emailAddress': 'scheduled-update@vn-commercial-analytics.iam.gserviceaccount.com'}], 'size': '3644'}\n"
     ]
    }
   ],
   "source": [
    "print(trashed_file)"
   ],
   "metadata": {
    "collapsed": false,
    "ExecuteTime": {
     "end_time": "2024-06-21T06:43:22.023544Z",
     "start_time": "2024-06-21T06:43:22.021510Z"
    }
   },
   "id": "adcbd702bed9a76e",
   "execution_count": 43
  },
  {
   "cell_type": "code",
   "outputs": [
    {
     "name": "stdout",
     "output_type": "stream",
     "text": [
      "\u001B[32mRestored \u001B[39m1Bc-R3dJl8ptSc9HpGXYlolQ_-KEUqwoz\u001B[32m from trash\u001B[39m\n"
     ]
    }
   ],
   "source": [
    "restored_file = drive.Files.trash(file_id=trashed_file.get('id'), restore=True)"
   ],
   "metadata": {
    "collapsed": false,
    "ExecuteTime": {
     "end_time": "2024-06-21T06:43:22.765956Z",
     "start_time": "2024-06-21T06:43:22.024340Z"
    }
   },
   "id": "8555c771d0e73fb8",
   "execution_count": 44
  },
  {
   "cell_type": "code",
   "outputs": [
    {
     "name": "stdout",
     "output_type": "stream",
     "text": [
      "{'id': '1Bc-R3dJl8ptSc9HpGXYlolQ_-KEUqwoz', 'name': 'README.md', 'mimeType': 'text/markdown', 'parents': ['1At9XME9BsGWeXhrDtrxyATZZq_g52uZk'], 'webViewLink': 'https://drive.google.com/file/d/1Bc-R3dJl8ptSc9HpGXYlolQ_-KEUqwoz/view?usp=drivesdk', 'owners': [{'kind': 'drive#user', 'displayName': 'scheduled-update@vn-commercial-analytics.iam.gserviceaccount.com', 'photoLink': 'https://lh3.googleusercontent.com/a/ACg8ocLLRXuvqntf_wWYDF337mxpjHbjG26Fp3qvbMc0Y2DCj7gXaQ=s64', 'me': True, 'permissionId': '16253811486374742618', 'emailAddress': 'scheduled-update@vn-commercial-analytics.iam.gserviceaccount.com'}], 'size': '3644'}\n"
     ]
    }
   ],
   "source": [
    "print(restored_file)"
   ],
   "metadata": {
    "collapsed": false,
    "ExecuteTime": {
     "end_time": "2024-06-21T06:43:22.768760Z",
     "start_time": "2024-06-21T06:43:22.766805Z"
    }
   },
   "id": "68f7b938d0230300",
   "execution_count": 45
  },
  {
   "cell_type": "markdown",
   "source": [
    "## Delete"
   ],
   "metadata": {
    "collapsed": false
   },
   "id": "da9f4e6ca1833406"
  },
  {
   "cell_type": "code",
   "outputs": [
    {
     "name": "stdout",
     "output_type": "stream",
     "text": [
      "\u001B[31mDeleted \u001B[39m1MN5DdSW0tFrkTOTwTZe76X4keqbo_VVINeR9VcuJWm8\n"
     ]
    }
   ],
   "source": [
    "drive.Files.delete(file_id=copied_file.get('id'))"
   ],
   "metadata": {
    "collapsed": false,
    "ExecuteTime": {
     "end_time": "2024-06-21T06:43:23.305290Z",
     "start_time": "2024-06-21T06:43:22.769906Z"
    }
   },
   "id": "16f848a52416fffb",
   "execution_count": 46
  },
  {
   "cell_type": "markdown",
   "source": [
    "# Permission"
   ],
   "metadata": {
    "collapsed": false
   },
   "id": "fb5e7d9514f778bf"
  },
  {
   "cell_type": "markdown",
   "source": [
    "## Add"
   ],
   "metadata": {
    "collapsed": false
   },
   "id": "2dbfb416582bd229"
  },
  {
   "cell_type": "code",
   "outputs": [
    {
     "name": "stdout",
     "output_type": "stream",
     "text": [
      "\u001B[32mAdded \u001B[39mEditor \u001B[32mpermission for \u001B[39mtnmhieu@gmail.com \u001B[32mto \u001B[39m1_bpyZQJezH6HYGLj3f8uk-iOBYA-2vO_\n"
     ]
    }
   ],
   "source": [
    "added_permission = drive.Permissions.add(file_id=folder.get('id'), role=Roles.EDITOR, email='tnmhieu@gmail.com')"
   ],
   "metadata": {
    "collapsed": false,
    "ExecuteTime": {
     "end_time": "2024-06-21T06:43:24.624054Z",
     "start_time": "2024-06-21T06:43:23.306109Z"
    }
   },
   "id": "b636b8f3ff161296",
   "execution_count": 47
  },
  {
   "cell_type": "code",
   "outputs": [
    {
     "name": "stdout",
     "output_type": "stream",
     "text": [
      "{'kind': 'drive#permission', 'id': '18313543420527784007', 'type': 'user', 'emailAddress': 'tnmhieu@gmail.com', 'role': 'writer', 'displayName': 'tnmhieu', 'photoLink': 'https://lh3.googleusercontent.com/a-/ALV-UjXk561sLajDzZ2Ajm1qyY_1MXQZj-qafXtximKuq-LP2YJLZiHZ=s64', 'deleted': False, 'pendingOwner': False}\n"
     ]
    }
   ],
   "source": [
    "print(added_permission)"
   ],
   "metadata": {
    "collapsed": false,
    "ExecuteTime": {
     "end_time": "2024-06-21T06:43:24.626919Z",
     "start_time": "2024-06-21T06:43:24.624754Z"
    }
   },
   "id": "c9d56a9891c7d6ac",
   "execution_count": 48
  },
  {
   "cell_type": "markdown",
   "source": [
    "## Get"
   ],
   "metadata": {
    "collapsed": false
   },
   "id": "d0f1654bd964602f"
  },
  {
   "cell_type": "code",
   "outputs": [
    {
     "data": {
      "text/plain": "{'kind': 'drive#permission',\n 'id': '18313543420527784007',\n 'type': 'user',\n 'emailAddress': 'tnmhieu@gmail.com',\n 'role': 'writer',\n 'displayName': 'tnmhieu',\n 'photoLink': 'https://lh3.googleusercontent.com/a-/ALV-UjXk561sLajDzZ2Ajm1qyY_1MXQZj-qafXtximKuq-LP2YJLZiHZ=s64',\n 'deleted': False,\n 'pendingOwner': False}"
     },
     "execution_count": 49,
     "metadata": {},
     "output_type": "execute_result"
    }
   ],
   "source": [
    "drive.Permissions.get(file_id=folder.get('id'), permission_id=added_permission.get('id'))"
   ],
   "metadata": {
    "collapsed": false,
    "ExecuteTime": {
     "end_time": "2024-06-21T06:43:25.042934Z",
     "start_time": "2024-06-21T06:43:24.627632Z"
    }
   },
   "id": "a4df47f1a5165b5e",
   "execution_count": 49
  },
  {
   "cell_type": "code",
   "outputs": [
    {
     "data": {
      "text/plain": "{'id': '18313543420527784007',\n 'displayName': 'tnmhieu',\n 'type': 'user',\n 'kind': 'drive#permission',\n 'photoLink': 'https://lh3.googleusercontent.com/a-/ALV-UjXk561sLajDzZ2Ajm1qyY_1MXQZj-qafXtximKuq-LP2YJLZiHZ=s64',\n 'emailAddress': 'tnmhieu@gmail.com',\n 'role': 'writer',\n 'deleted': False,\n 'pendingOwner': False}"
     },
     "execution_count": 50,
     "metadata": {},
     "output_type": "execute_result"
    }
   ],
   "source": [
    "drive.Permissions.get(file_id=folder.get('id'), email='tnmhieu@gmail.com')"
   ],
   "metadata": {
    "collapsed": false,
    "ExecuteTime": {
     "end_time": "2024-06-21T06:43:25.400277Z",
     "start_time": "2024-06-21T06:43:25.044430Z"
    }
   },
   "id": "5a446bccf3dc9cc8",
   "execution_count": 50
  },
  {
   "cell_type": "markdown",
   "source": [
    "## Update"
   ],
   "metadata": {
    "collapsed": false
   },
   "id": "d4a5cfa05a5d3675"
  },
  {
   "cell_type": "code",
   "outputs": [
    {
     "name": "stdout",
     "output_type": "stream",
     "text": [
      "\u001B[34mUpdated permission of \u001B[39mtnmhieu@gmail.com\u001B[34m in file \u001B[39m1_bpyZQJezH6HYGLj3f8uk-iOBYA-2vO_\u001B[34m to \u001B[39mViewer\n"
     ]
    }
   ],
   "source": [
    "updated_permission = drive.Permissions.update(file_id=folder.get('id'), role=Roles.VIEWER, email='tnmhieu@gmail.com')"
   ],
   "metadata": {
    "collapsed": false,
    "ExecuteTime": {
     "end_time": "2024-06-21T06:43:26.556439Z",
     "start_time": "2024-06-21T06:43:25.401310Z"
    }
   },
   "id": "b7c8c1210744ccca",
   "execution_count": 51
  },
  {
   "cell_type": "code",
   "outputs": [
    {
     "name": "stdout",
     "output_type": "stream",
     "text": [
      "{'kind': 'drive#permission', 'id': '18313543420527784007', 'type': 'user', 'emailAddress': 'tnmhieu@gmail.com', 'role': 'reader', 'displayName': 'tnmhieu', 'photoLink': 'https://lh3.googleusercontent.com/a-/ALV-UjXk561sLajDzZ2Ajm1qyY_1MXQZj-qafXtximKuq-LP2YJLZiHZ=s64', 'deleted': False, 'pendingOwner': False}\n"
     ]
    }
   ],
   "source": [
    "print(updated_permission)"
   ],
   "metadata": {
    "collapsed": false,
    "ExecuteTime": {
     "end_time": "2024-06-21T06:43:26.561414Z",
     "start_time": "2024-06-21T06:43:26.558029Z"
    }
   },
   "id": "41ff235607869da5",
   "execution_count": 52
  },
  {
   "cell_type": "markdown",
   "source": [
    "## List"
   ],
   "metadata": {
    "collapsed": false
   },
   "id": "36a1855132a399d"
  },
  {
   "cell_type": "code",
   "outputs": [],
   "source": [
    "permissions = pd.DataFrame(drive.Permissions.list(file_id=folder.get('id')))"
   ],
   "metadata": {
    "collapsed": false,
    "ExecuteTime": {
     "end_time": "2024-06-21T06:43:27.042917Z",
     "start_time": "2024-06-21T06:43:26.562767Z"
    }
   },
   "id": "a45754da48431d6",
   "execution_count": 53
  },
  {
   "cell_type": "code",
   "outputs": [
    {
     "data": {
      "text/plain": "                     id                                        displayName  \\\n0  18313543420527784007                                            tnmhieu   \n1  16253811486374742618  scheduled-update@vn-commercial-analytics.iam.g...   \n\n   type              kind                                          photoLink  \\\n0  user  drive#permission  https://lh3.googleusercontent.com/a-/ALV-UjXk5...   \n1  user  drive#permission  https://lh3.googleusercontent.com/a/ACg8ocLLRX...   \n\n                                        emailAddress    role  deleted  \\\n0                                  tnmhieu@gmail.com  reader    False   \n1  scheduled-update@vn-commercial-analytics.iam.g...   owner    False   \n\n   pendingOwner  \n0         False  \n1         False  ",
      "text/html": "<div>\n<style scoped>\n    .dataframe tbody tr th:only-of-type {\n        vertical-align: middle;\n    }\n\n    .dataframe tbody tr th {\n        vertical-align: top;\n    }\n\n    .dataframe thead th {\n        text-align: right;\n    }\n</style>\n<table border=\"1\" class=\"dataframe\">\n  <thead>\n    <tr style=\"text-align: right;\">\n      <th></th>\n      <th>id</th>\n      <th>displayName</th>\n      <th>type</th>\n      <th>kind</th>\n      <th>photoLink</th>\n      <th>emailAddress</th>\n      <th>role</th>\n      <th>deleted</th>\n      <th>pendingOwner</th>\n    </tr>\n  </thead>\n  <tbody>\n    <tr>\n      <th>0</th>\n      <td>18313543420527784007</td>\n      <td>tnmhieu</td>\n      <td>user</td>\n      <td>drive#permission</td>\n      <td>https://lh3.googleusercontent.com/a-/ALV-UjXk5...</td>\n      <td>tnmhieu@gmail.com</td>\n      <td>reader</td>\n      <td>False</td>\n      <td>False</td>\n    </tr>\n    <tr>\n      <th>1</th>\n      <td>16253811486374742618</td>\n      <td>scheduled-update@vn-commercial-analytics.iam.g...</td>\n      <td>user</td>\n      <td>drive#permission</td>\n      <td>https://lh3.googleusercontent.com/a/ACg8ocLLRX...</td>\n      <td>scheduled-update@vn-commercial-analytics.iam.g...</td>\n      <td>owner</td>\n      <td>False</td>\n      <td>False</td>\n    </tr>\n  </tbody>\n</table>\n</div>"
     },
     "execution_count": 54,
     "metadata": {},
     "output_type": "execute_result"
    }
   ],
   "source": [
    "permissions"
   ],
   "metadata": {
    "collapsed": false,
    "ExecuteTime": {
     "end_time": "2024-06-21T06:43:27.050012Z",
     "start_time": "2024-06-21T06:43:27.043718Z"
    }
   },
   "id": "f6dcd5660b7ed906",
   "execution_count": 54
  },
  {
   "cell_type": "markdown",
   "source": [
    "## Remove"
   ],
   "metadata": {
    "collapsed": false
   },
   "id": "860d8a3c918a8832"
  },
  {
   "cell_type": "code",
   "outputs": [
    {
     "name": "stdout",
     "output_type": "stream",
     "text": [
      "\u001B[31mRemoved permission of \u001B[39m18313543420527784007 \u001B[31mfrom \u001B[39m1_bpyZQJezH6HYGLj3f8uk-iOBYA-2vO_\n"
     ]
    }
   ],
   "source": [
    "drive.Permissions.remove(file_id=folder.get('id'), permission_id=updated_permission.get('id'))"
   ],
   "metadata": {
    "collapsed": false,
    "ExecuteTime": {
     "end_time": "2024-06-21T06:43:27.789211Z",
     "start_time": "2024-06-21T06:43:27.050860Z"
    }
   },
   "id": "ee814aca5030e4d2",
   "execution_count": 55
  },
  {
   "cell_type": "code",
   "outputs": [],
   "source": [
    "# drive.Permissions.remove(file_id=folder.get('id'), email='tnmhieu@gmail.com')"
   ],
   "metadata": {
    "collapsed": false,
    "ExecuteTime": {
     "end_time": "2024-06-21T06:43:27.792575Z",
     "start_time": "2024-06-21T06:43:27.790331Z"
    }
   },
   "id": "7ec08039d045a685",
   "execution_count": 56
  },
  {
   "cell_type": "markdown",
   "source": [
    "# Comments"
   ],
   "metadata": {
    "collapsed": false
   },
   "id": "77d63a22e99327da"
  },
  {
   "cell_type": "markdown",
   "source": [
    "## Create"
   ],
   "metadata": {
    "collapsed": false
   },
   "id": "a6fecdcbf90e6a14"
  },
  {
   "cell_type": "code",
   "outputs": [
    {
     "name": "stdout",
     "output_type": "stream",
     "text": [
      "\u001B[32mCreated a comment \u001B[39m\"test comment\"\u001B[32m on file \u001B[39m1D9gNcZIaLjNGFmYbUNfVkWhpWtT1S-aX5SpciHbyG90\n"
     ]
    }
   ],
   "source": [
    "created_comment = drive.Comments.create(file_id=created_file_2.get('id'), content='test comment')"
   ],
   "metadata": {
    "collapsed": false,
    "ExecuteTime": {
     "end_time": "2024-06-21T06:43:28.708767Z",
     "start_time": "2024-06-21T06:43:27.793397Z"
    }
   },
   "id": "e9b7668211a8a4e",
   "execution_count": 57
  },
  {
   "cell_type": "code",
   "outputs": [
    {
     "name": "stdout",
     "output_type": "stream",
     "text": [
      "{'id': 'AAABPmIa5z4', 'kind': 'drive#comment', 'createdTime': '2024-06-21T06:43:28.234Z', 'modifiedTime': '2024-06-21T06:43:28.234Z', 'replies': [], 'author': {'displayName': 'scheduled-update@vn-commercial-analytics.iam.gserviceaccount.com', 'kind': 'drive#user', 'me': True, 'photoLink': '//lh3.googleusercontent.com/a/ACg8ocLLRXuvqntf_wWYDF337mxpjHbjG26Fp3qvbMc0Y2DCj7gXaQ=s50-c-k-no'}, 'deleted': False, 'htmlContent': 'test comment', 'content': 'test comment'}\n"
     ]
    }
   ],
   "source": [
    "print(created_comment)"
   ],
   "metadata": {
    "collapsed": false,
    "ExecuteTime": {
     "end_time": "2024-06-21T06:43:28.711926Z",
     "start_time": "2024-06-21T06:43:28.709545Z"
    }
   },
   "id": "8f0fdf03e87deeb0",
   "execution_count": 58
  },
  {
   "cell_type": "code",
   "outputs": [
    {
     "name": "stdout",
     "output_type": "stream",
     "text": [
      "\u001B[32mCreated a comment \u001B[39m\"Reference site about...\"\u001B[32m on file \u001B[39m1D9gNcZIaLjNGFmYbUNfVkWhpWtT1S-aX5SpciHbyG90\n"
     ]
    }
   ],
   "source": [
    "created_comment_2 = drive.Comments.create(file_id=created_file_2.get('id'), content='Reference site about Lorem Ipsum, giving information on its origins, as well as a random Lipsum generator.')"
   ],
   "metadata": {
    "collapsed": false,
    "ExecuteTime": {
     "end_time": "2024-06-21T06:43:29.442859Z",
     "start_time": "2024-06-21T06:43:28.712841Z"
    }
   },
   "id": "17b97842558d1630",
   "execution_count": 59
  },
  {
   "cell_type": "markdown",
   "source": [
    "## Get"
   ],
   "metadata": {
    "collapsed": false
   },
   "id": "e0d0eb3cdbe25b73"
  },
  {
   "cell_type": "code",
   "outputs": [
    {
     "data": {
      "text/plain": "{'id': 'AAABPmIa5z4',\n 'kind': 'drive#comment',\n 'createdTime': '2024-06-21T06:43:28.234Z',\n 'modifiedTime': '2024-06-21T06:43:28.234Z',\n 'replies': [],\n 'author': {'displayName': 'scheduled-update@vn-commercial-analytics.iam.gserviceaccount.com',\n  'kind': 'drive#user',\n  'me': True,\n  'photoLink': '//lh3.googleusercontent.com/a/ACg8ocLLRXuvqntf_wWYDF337mxpjHbjG26Fp3qvbMc0Y2DCj7gXaQ=s50-c-k-no'},\n 'deleted': False,\n 'htmlContent': 'test comment',\n 'content': 'test comment'}"
     },
     "execution_count": 60,
     "metadata": {},
     "output_type": "execute_result"
    }
   ],
   "source": [
    "drive.Comments.get(file_id=created_file_2.get('id'), comment_id=created_comment.get('id'))"
   ],
   "metadata": {
    "collapsed": false,
    "ExecuteTime": {
     "end_time": "2024-06-21T06:43:29.784731Z",
     "start_time": "2024-06-21T06:43:29.443721Z"
    }
   },
   "id": "30e2fce4e511bdf9",
   "execution_count": 60
  },
  {
   "cell_type": "markdown",
   "source": [
    "## Update"
   ],
   "metadata": {
    "collapsed": false
   },
   "id": "e2351a57ded3c511"
  },
  {
   "cell_type": "code",
   "outputs": [
    {
     "name": "stdout",
     "output_type": "stream",
     "text": [
      "\u001B[34mUpdated comment \u001B[39mAAABPmIa5z4\u001B[34m to \u001B[39m\"Changed content\"\n"
     ]
    }
   ],
   "source": [
    "updated_comment = drive.Comments.update(file_id=created_file_2.get('id'), comment_id=created_comment.get('id'), content='Changed content')"
   ],
   "metadata": {
    "collapsed": false,
    "ExecuteTime": {
     "end_time": "2024-06-21T06:43:30.734942Z",
     "start_time": "2024-06-21T06:43:29.785755Z"
    }
   },
   "id": "6fec6a516e323cc6",
   "execution_count": 61
  },
  {
   "cell_type": "code",
   "outputs": [
    {
     "name": "stdout",
     "output_type": "stream",
     "text": [
      "{'id': 'AAABPmIa5z4', 'kind': 'drive#comment', 'createdTime': '2024-06-21T06:43:28.234Z', 'modifiedTime': '2024-06-21T06:43:30.158Z', 'replies': [], 'author': {'displayName': 'scheduled-update@vn-commercial-analytics.iam.gserviceaccount.com', 'kind': 'drive#user', 'me': True, 'photoLink': '//lh3.googleusercontent.com/a/ACg8ocLLRXuvqntf_wWYDF337mxpjHbjG26Fp3qvbMc0Y2DCj7gXaQ=s50-c-k-no'}, 'deleted': False, 'htmlContent': 'Changed content', 'content': 'Changed content'}\n"
     ]
    }
   ],
   "source": [
    "print(updated_comment)"
   ],
   "metadata": {
    "collapsed": false,
    "ExecuteTime": {
     "end_time": "2024-06-21T06:43:30.737742Z",
     "start_time": "2024-06-21T06:43:30.735805Z"
    }
   },
   "id": "36c93b43debc1712",
   "execution_count": 62
  },
  {
   "cell_type": "markdown",
   "source": [
    "## List"
   ],
   "metadata": {
    "collapsed": false
   },
   "id": "5ff71a3bb649260a"
  },
  {
   "cell_type": "code",
   "outputs": [],
   "source": [
    "comments = pd.DataFrame(drive.Comments.list(file_id=created_file_2.get('id')))"
   ],
   "metadata": {
    "collapsed": false,
    "ExecuteTime": {
     "end_time": "2024-06-21T06:43:31.047491Z",
     "start_time": "2024-06-21T06:43:30.738418Z"
    }
   },
   "id": "fff72d3e1f360313",
   "execution_count": 63
  },
  {
   "cell_type": "code",
   "outputs": [
    {
     "data": {
      "text/plain": "            id           kind               createdTime  \\\n0  AAABPmIa5z8  drive#comment  2024-06-21T06:43:29.051Z   \n1  AAABPmIa5z4  drive#comment  2024-06-21T06:43:28.234Z   \n\n               modifiedTime replies  \\\n0  2024-06-21T06:43:29.051Z      []   \n1  2024-06-21T06:43:30.158Z      []   \n\n                                              author  deleted  \\\n0  {'displayName': 'scheduled-update@vn-commercia...    False   \n1  {'displayName': 'scheduled-update@vn-commercia...    False   \n\n                                         htmlContent  \\\n0  Reference site about Lorem Ipsum, giving infor...   \n1                                    Changed content   \n\n                                             content  \n0  Reference site about Lorem Ipsum, giving infor...  \n1                                    Changed content  ",
      "text/html": "<div>\n<style scoped>\n    .dataframe tbody tr th:only-of-type {\n        vertical-align: middle;\n    }\n\n    .dataframe tbody tr th {\n        vertical-align: top;\n    }\n\n    .dataframe thead th {\n        text-align: right;\n    }\n</style>\n<table border=\"1\" class=\"dataframe\">\n  <thead>\n    <tr style=\"text-align: right;\">\n      <th></th>\n      <th>id</th>\n      <th>kind</th>\n      <th>createdTime</th>\n      <th>modifiedTime</th>\n      <th>replies</th>\n      <th>author</th>\n      <th>deleted</th>\n      <th>htmlContent</th>\n      <th>content</th>\n    </tr>\n  </thead>\n  <tbody>\n    <tr>\n      <th>0</th>\n      <td>AAABPmIa5z8</td>\n      <td>drive#comment</td>\n      <td>2024-06-21T06:43:29.051Z</td>\n      <td>2024-06-21T06:43:29.051Z</td>\n      <td>[]</td>\n      <td>{'displayName': 'scheduled-update@vn-commercia...</td>\n      <td>False</td>\n      <td>Reference site about Lorem Ipsum, giving infor...</td>\n      <td>Reference site about Lorem Ipsum, giving infor...</td>\n    </tr>\n    <tr>\n      <th>1</th>\n      <td>AAABPmIa5z4</td>\n      <td>drive#comment</td>\n      <td>2024-06-21T06:43:28.234Z</td>\n      <td>2024-06-21T06:43:30.158Z</td>\n      <td>[]</td>\n      <td>{'displayName': 'scheduled-update@vn-commercia...</td>\n      <td>False</td>\n      <td>Changed content</td>\n      <td>Changed content</td>\n    </tr>\n  </tbody>\n</table>\n</div>"
     },
     "execution_count": 64,
     "metadata": {},
     "output_type": "execute_result"
    }
   ],
   "source": [
    "comments"
   ],
   "metadata": {
    "collapsed": false,
    "ExecuteTime": {
     "end_time": "2024-06-21T06:43:31.054698Z",
     "start_time": "2024-06-21T06:43:31.048350Z"
    }
   },
   "id": "f959ce524d98ee5e",
   "execution_count": 64
  },
  {
   "cell_type": "markdown",
   "source": [
    "## Delete"
   ],
   "metadata": {
    "collapsed": false
   },
   "id": "13bc9641ff11deaf"
  },
  {
   "cell_type": "code",
   "outputs": [
    {
     "name": "stdout",
     "output_type": "stream",
     "text": [
      "\u001B[31mDeleted comment \u001B[39mAAABPmIa5z4 on file 1D9gNcZIaLjNGFmYbUNfVkWhpWtT1S-aX5SpciHbyG90\n"
     ]
    }
   ],
   "source": [
    "drive.Comments.delete(file_id=created_file_2.get('id'), comment_id=created_comment.get('id'))"
   ],
   "metadata": {
    "collapsed": false,
    "ExecuteTime": {
     "end_time": "2024-06-21T06:43:31.732151Z",
     "start_time": "2024-06-21T06:43:31.055569Z"
    }
   },
   "id": "e2a59e8f3698be5e",
   "execution_count": 65
  },
  {
   "cell_type": "markdown",
   "source": [
    "# Replies"
   ],
   "metadata": {
    "collapsed": false
   },
   "id": "3c455c320e857c09"
  },
  {
   "cell_type": "code",
   "outputs": [
    {
     "name": "stdout",
     "output_type": "stream",
     "text": [
      "\u001B[32mCreated a reply \u001B[39m\"Reference site about...\"\u001B[32m to comment \u001B[39mAAABPmIa5z8\n"
     ]
    }
   ],
   "source": [
    "created_reply = drive.Replies.create(file_id=created_file_2.get('id'), comment_id=created_comment_2.get('id'), content='Reference site about Lorem Ipsum, giving information on its origins, as well as a random Lipsum generator.')"
   ],
   "metadata": {
    "collapsed": false,
    "ExecuteTime": {
     "end_time": "2024-06-21T06:43:32.581583Z",
     "start_time": "2024-06-21T06:43:31.733292Z"
    }
   },
   "id": "a0c06943962d050b",
   "execution_count": 66
  },
  {
   "cell_type": "code",
   "outputs": [
    {
     "name": "stdout",
     "output_type": "stream",
     "text": [
      "{'kind': 'drive#reply', 'id': 'AAABPmIa50A', 'createdTime': '2024-06-21T06:43:32.042Z', 'modifiedTime': '2024-06-21T06:43:32.042Z', 'author': {'kind': 'drive#user', 'displayName': 'scheduled-update@vn-commercial-analytics.iam.gserviceaccount.com', 'photoLink': '//lh3.googleusercontent.com/a/ACg8ocLLRXuvqntf_wWYDF337mxpjHbjG26Fp3qvbMc0Y2DCj7gXaQ=s50-c-k-no', 'me': True}, 'htmlContent': 'Reference site about Lorem Ipsum, giving information on its origins, as well as a random Lipsum generator.', 'content': 'Reference site about Lorem Ipsum, giving information on its origins, as well as a random Lipsum generator.', 'deleted': False}\n"
     ]
    }
   ],
   "source": [
    "print(created_reply)"
   ],
   "metadata": {
    "collapsed": false,
    "ExecuteTime": {
     "end_time": "2024-06-21T06:43:32.594572Z",
     "start_time": "2024-06-21T06:43:32.586759Z"
    }
   },
   "id": "ff1cf074b379cea1",
   "execution_count": 67
  },
  {
   "cell_type": "code",
   "outputs": [
    {
     "name": "stdout",
     "output_type": "stream",
     "text": [
      "\u001B[32mCreated a reply \u001B[39m\"Reply content 2\"\u001B[32m to comment \u001B[39mAAABPmIa5z8\n"
     ]
    }
   ],
   "source": [
    "created_reply_2 = drive.Replies.create(file_id=created_file_2.get('id'), comment_id=created_comment_2.get('id'), content='Reply content 2')"
   ],
   "metadata": {
    "collapsed": false,
    "ExecuteTime": {
     "end_time": "2024-06-21T06:43:36.057680Z",
     "start_time": "2024-06-21T06:43:32.597811Z"
    }
   },
   "id": "8ee2b3f9f6c913d5",
   "execution_count": 68
  },
  {
   "cell_type": "markdown",
   "source": [
    "## Get"
   ],
   "metadata": {
    "collapsed": false
   },
   "id": "dff166315b5392e5"
  },
  {
   "cell_type": "code",
   "outputs": [
    {
     "data": {
      "text/plain": "{'kind': 'drive#reply',\n 'id': 'AAABPmIa50A',\n 'createdTime': '2024-06-21T06:43:32.042Z',\n 'modifiedTime': '2024-06-21T06:43:32.042Z',\n 'author': {'kind': 'drive#user',\n  'displayName': 'scheduled-update@vn-commercial-analytics.iam.gserviceaccount.com',\n  'photoLink': '//lh3.googleusercontent.com/a/ACg8ocLLRXuvqntf_wWYDF337mxpjHbjG26Fp3qvbMc0Y2DCj7gXaQ=s50-c-k-no',\n  'me': True},\n 'htmlContent': 'Reference site about Lorem Ipsum, giving information on its origins, as well as a random Lipsum generator.',\n 'content': 'Reference site about Lorem Ipsum, giving information on its origins, as well as a random Lipsum generator.',\n 'deleted': False}"
     },
     "execution_count": 69,
     "metadata": {},
     "output_type": "execute_result"
    }
   ],
   "source": [
    "drive.Replies.get(file_id=created_file_2.get('id'), comment_id=created_comment_2.get('id'), reply_id=created_reply.get('id'))"
   ],
   "metadata": {
    "collapsed": false,
    "ExecuteTime": {
     "end_time": "2024-06-21T06:43:36.464157Z",
     "start_time": "2024-06-21T06:43:36.059248Z"
    }
   },
   "id": "94604b593a33a2c4",
   "execution_count": 69
  },
  {
   "cell_type": "markdown",
   "source": [
    "## Update"
   ],
   "metadata": {
    "collapsed": false
   },
   "id": "59f7d3ef4287de3e"
  },
  {
   "cell_type": "code",
   "outputs": [
    {
     "name": "stdout",
     "output_type": "stream",
     "text": [
      "\u001B[34mUpdated reply \u001B[39mAAABPmIa50A\u001B[34m to \u001B[39m\"Updated content\"\n"
     ]
    }
   ],
   "source": [
    "updated_reply = drive.Replies.update(file_id=created_file_2.get('id'), comment_id=created_comment_2.get('id'), reply_id=created_reply.get('id'), content='Updated content')"
   ],
   "metadata": {
    "collapsed": false,
    "ExecuteTime": {
     "end_time": "2024-06-21T06:43:37.371642Z",
     "start_time": "2024-06-21T06:43:36.465726Z"
    }
   },
   "id": "960a4fe35ab202bf",
   "execution_count": 70
  },
  {
   "cell_type": "code",
   "outputs": [
    {
     "name": "stdout",
     "output_type": "stream",
     "text": [
      "{'kind': 'drive#reply', 'id': 'AAABPmIa50A', 'modifiedTime': '2024-06-21T06:43:36.783Z', 'author': {'kind': 'drive#user', 'displayName': 'scheduled-update@vn-commercial-analytics.iam.gserviceaccount.com', 'photoLink': '//lh3.googleusercontent.com/a/ACg8ocLLRXuvqntf_wWYDF337mxpjHbjG26Fp3qvbMc0Y2DCj7gXaQ=s50-c-k-no', 'me': True}, 'htmlContent': 'Updated content', 'content': 'Updated content', 'deleted': False}\n"
     ]
    }
   ],
   "source": [
    "print(updated_reply)"
   ],
   "metadata": {
    "collapsed": false,
    "ExecuteTime": {
     "end_time": "2024-06-21T06:43:37.375095Z",
     "start_time": "2024-06-21T06:43:37.372808Z"
    }
   },
   "id": "a70fc024ba7279cd",
   "execution_count": 71
  },
  {
   "cell_type": "code",
   "outputs": [],
   "source": [
    "replies = pd.DataFrame(drive.Replies.list(file_id=created_file_2.get('id'), comment_id=created_comment_2.get('id')))"
   ],
   "metadata": {
    "collapsed": false,
    "ExecuteTime": {
     "end_time": "2024-06-21T06:43:37.794836Z",
     "start_time": "2024-06-21T06:43:37.375932Z"
    }
   },
   "id": "b268cf1111457dea",
   "execution_count": 72
  },
  {
   "cell_type": "code",
   "outputs": [
    {
     "data": {
      "text/plain": "            id         kind               createdTime  \\\n0  AAABPmIa50A  drive#reply  2024-06-21T06:43:32.042Z   \n1  AAABPmIa50E  drive#reply  2024-06-21T06:43:35.527Z   \n\n               modifiedTime  \\\n0  2024-06-21T06:43:36.783Z   \n1  2024-06-21T06:43:35.527Z   \n\n                                              author  deleted  \\\n0  {'displayName': 'scheduled-update@vn-commercia...    False   \n1  {'displayName': 'scheduled-update@vn-commercia...    False   \n\n       htmlContent          content  \n0  Updated content  Updated content  \n1  Reply content 2  Reply content 2  ",
      "text/html": "<div>\n<style scoped>\n    .dataframe tbody tr th:only-of-type {\n        vertical-align: middle;\n    }\n\n    .dataframe tbody tr th {\n        vertical-align: top;\n    }\n\n    .dataframe thead th {\n        text-align: right;\n    }\n</style>\n<table border=\"1\" class=\"dataframe\">\n  <thead>\n    <tr style=\"text-align: right;\">\n      <th></th>\n      <th>id</th>\n      <th>kind</th>\n      <th>createdTime</th>\n      <th>modifiedTime</th>\n      <th>author</th>\n      <th>deleted</th>\n      <th>htmlContent</th>\n      <th>content</th>\n    </tr>\n  </thead>\n  <tbody>\n    <tr>\n      <th>0</th>\n      <td>AAABPmIa50A</td>\n      <td>drive#reply</td>\n      <td>2024-06-21T06:43:32.042Z</td>\n      <td>2024-06-21T06:43:36.783Z</td>\n      <td>{'displayName': 'scheduled-update@vn-commercia...</td>\n      <td>False</td>\n      <td>Updated content</td>\n      <td>Updated content</td>\n    </tr>\n    <tr>\n      <th>1</th>\n      <td>AAABPmIa50E</td>\n      <td>drive#reply</td>\n      <td>2024-06-21T06:43:35.527Z</td>\n      <td>2024-06-21T06:43:35.527Z</td>\n      <td>{'displayName': 'scheduled-update@vn-commercia...</td>\n      <td>False</td>\n      <td>Reply content 2</td>\n      <td>Reply content 2</td>\n    </tr>\n  </tbody>\n</table>\n</div>"
     },
     "execution_count": 73,
     "metadata": {},
     "output_type": "execute_result"
    }
   ],
   "source": [
    "replies"
   ],
   "metadata": {
    "collapsed": false,
    "ExecuteTime": {
     "end_time": "2024-06-21T06:43:37.802975Z",
     "start_time": "2024-06-21T06:43:37.795748Z"
    }
   },
   "id": "cab5e60f082c15d0",
   "execution_count": 73
  },
  {
   "cell_type": "markdown",
   "source": [
    "## Delete"
   ],
   "metadata": {
    "collapsed": false
   },
   "id": "bb2825f870212a4b"
  },
  {
   "cell_type": "code",
   "outputs": [
    {
     "name": "stdout",
     "output_type": "stream",
     "text": [
      "\u001B[31mDeleted reply \u001B[39mAAABPmIa50A on file 1D9gNcZIaLjNGFmYbUNfVkWhpWtT1S-aX5SpciHbyG90\n"
     ]
    }
   ],
   "source": [
    "drive.Replies.delete(file_id=created_file_2.get('id'), comment_id=created_comment_2.get('id'), reply_id=created_reply.get('id'))"
   ],
   "metadata": {
    "collapsed": false,
    "ExecuteTime": {
     "end_time": "2024-06-21T06:43:38.590673Z",
     "start_time": "2024-06-21T06:43:37.803879Z"
    }
   },
   "id": "fba1f71a6c714c14",
   "execution_count": 74
  },
  {
   "cell_type": "markdown",
   "source": [
    "# Revisions"
   ],
   "metadata": {
    "collapsed": false
   },
   "id": "d40a996e3b7aec35"
  },
  {
   "cell_type": "markdown",
   "source": [
    "## List"
   ],
   "metadata": {
    "collapsed": false
   },
   "id": "39c85df4071213cc"
  },
  {
   "cell_type": "code",
   "outputs": [],
   "source": [
    "revisions = pd.DataFrame(drive.Revisions.list(file_id=created_file.get('id')))"
   ],
   "metadata": {
    "collapsed": false,
    "ExecuteTime": {
     "end_time": "2024-06-21T06:43:39.020320Z",
     "start_time": "2024-06-21T06:43:38.592611Z"
    }
   },
   "id": "f516c2e79a231690",
   "execution_count": 75
  },
  {
   "cell_type": "code",
   "outputs": [
    {
     "data": {
      "text/plain": "  id                                 mimeType            kind  published  \\\n0  1  application/vnd.google-apps.spreadsheet  drive#revision      False   \n\n                                         exportLinks  \\\n0  {'application/x-vnd.oasis.opendocument.spreads...   \n\n               modifiedTime                                  lastModifyingUser  \n0  2024-06-21T06:42:57.485Z  {'displayName': 'scheduled-update@vn-commercia...  ",
      "text/html": "<div>\n<style scoped>\n    .dataframe tbody tr th:only-of-type {\n        vertical-align: middle;\n    }\n\n    .dataframe tbody tr th {\n        vertical-align: top;\n    }\n\n    .dataframe thead th {\n        text-align: right;\n    }\n</style>\n<table border=\"1\" class=\"dataframe\">\n  <thead>\n    <tr style=\"text-align: right;\">\n      <th></th>\n      <th>id</th>\n      <th>mimeType</th>\n      <th>kind</th>\n      <th>published</th>\n      <th>exportLinks</th>\n      <th>modifiedTime</th>\n      <th>lastModifyingUser</th>\n    </tr>\n  </thead>\n  <tbody>\n    <tr>\n      <th>0</th>\n      <td>1</td>\n      <td>application/vnd.google-apps.spreadsheet</td>\n      <td>drive#revision</td>\n      <td>False</td>\n      <td>{'application/x-vnd.oasis.opendocument.spreads...</td>\n      <td>2024-06-21T06:42:57.485Z</td>\n      <td>{'displayName': 'scheduled-update@vn-commercia...</td>\n    </tr>\n  </tbody>\n</table>\n</div>"
     },
     "execution_count": 76,
     "metadata": {},
     "output_type": "execute_result"
    }
   ],
   "source": [
    "revisions"
   ],
   "metadata": {
    "collapsed": false,
    "ExecuteTime": {
     "end_time": "2024-06-21T06:43:39.025861Z",
     "start_time": "2024-06-21T06:43:39.021217Z"
    }
   },
   "id": "16fd82049e9d1854",
   "execution_count": 76
  },
  {
   "cell_type": "markdown",
   "source": [
    "## Get"
   ],
   "metadata": {
    "collapsed": false
   },
   "id": "5ff1b82772c16a0d"
  },
  {
   "cell_type": "code",
   "outputs": [
    {
     "data": {
      "text/plain": "{'kind': 'drive#revision',\n 'id': '1',\n 'mimeType': 'application/vnd.google-apps.spreadsheet',\n 'modifiedTime': '2024-06-21T06:42:57.485Z',\n 'published': False,\n 'lastModifyingUser': {'kind': 'drive#user',\n  'displayName': 'scheduled-update@vn-commercial-analytics.iam.gserviceaccount.com',\n  'photoLink': 'https://lh3.googleusercontent.com/a/ACg8ocLLRXuvqntf_wWYDF337mxpjHbjG26Fp3qvbMc0Y2DCj7gXaQ=s64',\n  'me': True,\n  'permissionId': '16253811486374742618',\n  'emailAddress': 'scheduled-update@vn-commercial-analytics.iam.gserviceaccount.com'},\n 'exportLinks': {'application/x-vnd.oasis.opendocument.spreadsheet': 'https://docs.google.com/spreadsheets/export?id=1-z9hk-4R0L1zSfLUFIf6Esxr_5qvsUiHNjMEbmIjdg0&revision=1&exportFormat=ods',\n  'text/tab-separated-values': 'https://docs.google.com/spreadsheets/export?id=1-z9hk-4R0L1zSfLUFIf6Esxr_5qvsUiHNjMEbmIjdg0&revision=1&exportFormat=tsv',\n  'application/pdf': 'https://docs.google.com/spreadsheets/export?id=1-z9hk-4R0L1zSfLUFIf6Esxr_5qvsUiHNjMEbmIjdg0&revision=1&exportFormat=pdf',\n  'application/vnd.openxmlformats-officedocument.spreadsheetml.sheet': 'https://docs.google.com/spreadsheets/export?id=1-z9hk-4R0L1zSfLUFIf6Esxr_5qvsUiHNjMEbmIjdg0&revision=1&exportFormat=xlsx',\n  'text/csv': 'https://docs.google.com/spreadsheets/export?id=1-z9hk-4R0L1zSfLUFIf6Esxr_5qvsUiHNjMEbmIjdg0&revision=1&exportFormat=csv',\n  'application/zip': 'https://docs.google.com/spreadsheets/export?id=1-z9hk-4R0L1zSfLUFIf6Esxr_5qvsUiHNjMEbmIjdg0&revision=1&exportFormat=zip',\n  'application/vnd.oasis.opendocument.spreadsheet': 'https://docs.google.com/spreadsheets/export?id=1-z9hk-4R0L1zSfLUFIf6Esxr_5qvsUiHNjMEbmIjdg0&revision=1&exportFormat=ods'}}"
     },
     "execution_count": 77,
     "metadata": {},
     "output_type": "execute_result"
    }
   ],
   "source": [
    "drive.Revisions.get(file_id=created_file.get('id'), revision_id=1)"
   ],
   "metadata": {
    "collapsed": false,
    "ExecuteTime": {
     "end_time": "2024-06-21T06:43:39.476810Z",
     "start_time": "2024-06-21T06:43:39.026576Z"
    }
   },
   "id": "2201e8732e1c78b9",
   "execution_count": 77
  },
  {
   "cell_type": "markdown",
   "source": [
    "## Delete"
   ],
   "metadata": {
    "collapsed": false
   },
   "id": "d40532d72977c84b"
  },
  {
   "cell_type": "code",
   "outputs": [],
   "source": [
    "# drive.Revisions.delete(file_id='1MyaSIC3bqzt3JbvZJoUH3g5EuVyHrtUcmDsOopZikqs', revision_id=1)"
   ],
   "metadata": {
    "collapsed": false,
    "ExecuteTime": {
     "end_time": "2024-06-21T06:43:39.479147Z",
     "start_time": "2024-06-21T06:43:39.477541Z"
    }
   },
   "id": "2409206f8a49138d",
   "execution_count": 78
  },
  {
   "cell_type": "markdown",
   "source": [
    "# Complete testing"
   ],
   "metadata": {
    "collapsed": false
   },
   "id": "a1baa1d4f10f77d2"
  },
  {
   "cell_type": "code",
   "outputs": [
    {
     "name": "stdout",
     "output_type": "stream",
     "text": [
      "\u001B[31mDeleted \u001B[39m1_bpyZQJezH6HYGLj3f8uk-iOBYA-2vO_\n"
     ]
    }
   ],
   "source": [
    "drive.Files.delete(file_id=folder.get('id'))"
   ],
   "metadata": {
    "collapsed": false,
    "ExecuteTime": {
     "end_time": "2024-06-21T06:43:40.014847Z",
     "start_time": "2024-06-21T06:43:39.479897Z"
    }
   },
   "id": "b0a0e0ba3d8e633",
   "execution_count": 79
  }
 ],
 "metadata": {
  "kernelspec": {
   "display_name": "Python 3",
   "language": "python",
   "name": "python3"
  },
  "language_info": {
   "codemirror_mode": {
    "name": "ipython",
    "version": 2
   },
   "file_extension": ".py",
   "mimetype": "text/x-python",
   "name": "python",
   "nbconvert_exporter": "python",
   "pygments_lexer": "ipython2",
   "version": "2.7.6"
  }
 },
 "nbformat": 4,
 "nbformat_minor": 5
}
